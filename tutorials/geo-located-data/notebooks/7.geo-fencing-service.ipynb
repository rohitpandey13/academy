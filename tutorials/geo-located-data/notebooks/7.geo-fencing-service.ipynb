{
 "cells": [
  {
   "cell_type": "markdown",
   "metadata": {},
   "source": [
    "# Sightseeing in New York City\n",
    "** Extracting patterns from geolocated venues and events **\n",
    "\n",
    "Machine learning, and in particular clustering algorithms, can be used to determine which geographical areas are commonly visited and “checked into” by a given user and which areas are not. Such geographical analyses enable a wide range of services, from location-based recommenders to advanced security systems, and in general provide a more personalized user experience. \n",
    "\n",
    "I will use these techniques to provide two flavours of predicting analytics: \n",
    "\n",
    "First, I will build a simple recommender system which will provide the most trending venues in a given area. In particular, k-means tclustering can be applied to the dataset of geolocated events to partition the map into regions. For each region, we can rank the venues which are most visited. With this information, we can recommend venues and landmarks such as Times Square or the Empire State Building depending of the location of the user.\n",
    "\n",
    "Second, I’ll determine geographical areas that are specific and personal to each user. In particular, I will use a density-based clustering technique such as DBSCAN to extract the areas where a user usually go. This analysis can be used to determine if a given data point is an _outlier_ with respect to the areas where a user normally checks in. And therefore it can be used to score a \"novelty\" or \"anomaly\" factor given the location of a given event\n",
    "\n",
    "We will analyze this events from a public dataset shared by Gowalla on venues checkins registered between 2008 and 2010. This notebook will cover some typical data science steps:\n",
    "\n",
    "  - data acquisition\n",
    "  - data preparation\n",
    "  - data exploration\n",
    "  \n",
    "Thereafter, we will dive into some unsupervised learning techniques: *k-means* and *dbscan* clustering, respectively for recommending popular venues and for determining outliers."
   ]
  },
  {
   "cell_type": "markdown",
   "metadata": {},
   "source": [
    "## Imports"
   ]
  },
  {
   "cell_type": "code",
   "execution_count": 1,
   "metadata": {
    "collapsed": false
   },
   "outputs": [],
   "source": [
    "%matplotlib inline\n",
    "\n",
    "# utils\n",
    "import os\n",
    "import re\n",
    "import urllib\n",
    "\n",
    "# images on the notebook\n",
    "from PIL import Image\n",
    "\n",
    "# time\n",
    "import pytz as tz\n",
    "from datetime import datetime\n",
    "\n",
    "# cassandra driver\n",
    "from cassandra.cluster import Cluster\n",
    "from cassandra.cluster import SimpleStatement, ConsistencyLevel\n",
    "\n",
    "# data exploration\n",
    "import numpy as np\n",
    "np.random.seed(1337)\n",
    "\n",
    "import pandas as pd"
   ]
  },
  {
   "cell_type": "code",
   "execution_count": 2,
   "metadata": {
    "collapsed": true
   },
   "outputs": [],
   "source": [
    "# init\n",
    "datadir = './data'\n",
    "\n",
    "# connect to cassandra\n",
    "CASSANDRA_NODES = ['127.0.0.1']\n",
    "\n",
    "cluster = Cluster(CASSANDRA_NODES)\n",
    "session = cluster.connect()"
   ]
  },
  {
   "cell_type": "code",
   "execution_count": 3,
   "metadata": {
    "collapsed": false
   },
   "outputs": [],
   "source": [
    "#matplotlib\n",
    "import matplotlib.pyplot as plt\n",
    "\n",
    "plt.rcParams['figure.figsize'] = (20.0, 20.0)\n",
    "plt.rcParams.update({'font.size': 12})\n",
    "plt.rcParams['xtick.major.pad']='5'\n",
    "plt.rcParams['ytick.major.pad']='5'\n",
    "\n",
    "plt.style.use('ggplot')"
   ]
  },
  {
   "cell_type": "markdown",
   "metadata": {},
   "source": [
    "### Prepare cassandra statements\n",
    "We are going to read events relative to a specific user."
   ]
  },
  {
   "cell_type": "code",
   "execution_count": 14,
   "metadata": {
    "collapsed": false
   },
   "outputs": [],
   "source": [
    "# prepared statement for getting the name of the top venue in a given cluster\n",
    "cql_prepared = session.prepare(\"SELECT lon, lat from lbsn.events where uid= ?\")"
   ]
  },
  {
   "cell_type": "markdown",
   "metadata": {},
   "source": [
    "## Determining user-specific regions"
   ]
  },
  {
   "cell_type": "code",
   "execution_count": 83,
   "metadata": {
    "collapsed": false
   },
   "outputs": [],
   "source": [
    "from sklearn.cluster import DBSCAN\n",
    "from scipy.spatial import ConvexHull\n",
    "from scipy.spatial import Delaunay\n",
    "\n",
    "def clusters(uid, radius=260):\n",
    "\n",
    "    #1deg at 40deg latitude is 111034.61 meters\n",
    "    eps = radius/111034.61\n",
    "\n",
    "    #user events\n",
    "    rows = session.execute(cql_prepared.bind([uid]))\n",
    "    \n",
    "    data = pd.DataFrame(list(rows))\n",
    "    db = DBSCAN(eps=eps, min_samples=3).fit(data)\n",
    "    \n",
    "    data['cl'] = db.labels_\n",
    "    return data\n",
    "\n",
    "    \n",
    "def regions(data):\n",
    "    hulls = []\n",
    "    for cl, group in data.groupby('cl'):\n",
    "        if cl>=0:\n",
    "            points = group[['lon','lat']].as_matrix()\n",
    "        try:\n",
    "            hull = ConvexHull(points)\n",
    "            hull_vertices = np.array([ [points[i][0], points[i][1]] for i in hull.vertices ])\n",
    "            hulls.append(hull_vertices)\n",
    "        except:\n",
    "            pass\n",
    "    return hulls\n",
    "\n",
    "def in_region(p, convexhull):\n",
    "    \"\"\"\n",
    "    Test if points in `p` are in `convexhull`\n",
    "    \"\"\"\n",
    "    # triangulation of convex hull vertices\n",
    "    try:\n",
    "        tri = Delaunay(convexhull)\n",
    "        return tri.find_simplex(p)>=0\n",
    "    except:\n",
    "        return True\n",
    "        "
   ]
  },
  {
   "cell_type": "code",
   "execution_count": 84,
   "metadata": {
    "collapsed": false
   },
   "outputs": [],
   "source": [
    "def location_alert(uid, lon, lat):\n",
    "    \"\"\"\n",
    "    Determine if the given point is within any of the given convex hulls\n",
    "    If not, it gives  \n",
    "    \"\"\"\n",
    "    \n",
    "    result = False\n",
    "    hulls = regions(clusters(uid))\n",
    "    \n",
    "    for k in list(range(len(hulls))):\n",
    "        result = result or in_region([lon, lat], hulls[k])\n",
    "        \n",
    "    return (not result)"
   ]
  },
  {
   "cell_type": "code",
   "execution_count": 85,
   "metadata": {
    "collapsed": false
   },
   "outputs": [
    {
     "data": {
      "text/plain": [
       "False"
      ]
     },
     "execution_count": 85,
     "metadata": {},
     "output_type": "execute_result"
    }
   ],
   "source": [
    "location_alert(22, -73.99, 40.75)\n"
   ]
  },
  {
   "cell_type": "code",
   "execution_count": 86,
   "metadata": {
    "collapsed": false
   },
   "outputs": [
    {
     "data": {
      "text/plain": [
       "True"
      ]
     },
     "execution_count": 86,
     "metadata": {},
     "output_type": "execute_result"
    }
   ],
   "source": [
    "location_alert(22, -73.99, 43.75)"
   ]
  },
  {
   "cell_type": "markdown",
   "metadata": {
    "collapsed": true
   },
   "source": [
    "### Build the REST service"
   ]
  },
  {
   "cell_type": "code",
   "execution_count": null,
   "metadata": {
    "collapsed": true
   },
   "outputs": [],
   "source": [
    "import json\n",
    "\n",
    "from flask import Flask\n",
    "app = Flask(\"location_alert\")\n",
    "\n",
    "@app.route(\"/location/alert/<int:uid>/<lon>,<lat>\")\n",
    "def alert_api(uid,lon, lat):\n",
    "    result = location_alert(uid,float(lon), float(lat))\n",
    "    return json.dumps(result)\n",
    "\n",
    "app.run()"
   ]
  },
  {
   "cell_type": "markdown",
   "metadata": {},
   "source": [
    "Try http://localhost:5000/location/alert/22/-73.99,40.75"
   ]
  },
  {
   "cell_type": "code",
   "execution_count": null,
   "metadata": {
    "collapsed": true
   },
   "outputs": [],
   "source": []
  }
 ],
 "metadata": {
  "kernelspec": {
   "display_name": "Python 3",
   "language": "python",
   "name": "python3"
  },
  "language_info": {
   "codemirror_mode": {
    "name": "ipython",
    "version": 3
   },
   "file_extension": ".py",
   "mimetype": "text/x-python",
   "name": "python",
   "nbconvert_exporter": "python",
   "pygments_lexer": "ipython3",
   "version": "3.5.1"
  }
 },
 "nbformat": 4,
 "nbformat_minor": 0
}
