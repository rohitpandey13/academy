{
 "cells": [
  {
   "cell_type": "markdown",
   "metadata": {},
   "source": [
    "# Sightseeing in New York City\n",
    "** Extracting patterns from geolocated venues and events **\n",
    "\n",
    "Machine learning, and in particular clustering algorithms, can be used to determine which geographical areas are commonly visited and “checked into” by a given user and which areas are not. Such geographical analyses enable a wide range of services, from location-based recommenders to advanced security systems, and in general provide a more personalized user experience. \n",
    "\n",
    "I will use these techniques to provide two flavours of predicting analytics: \n",
    "\n",
    "First, I will build a simple recommender system which will provide the most trending venues in a given area. In particular, k-means tclustering can be applied to the dataset of geolocated events to partition the map into regions. For each region, we can rank the venues which are most visited. With this information, we can recommend venues and landmarks such as Times Square or the Empire State Building depending of the location of the user.\n",
    "\n",
    "Second, I’ll determine geographical areas that are specific and personal to each user. In particular, I will use a density-based clustering technique such as DBSCAN to extract the areas where a user usually go. This analysis can be used to determine if a given data point is an _outlier_ with respect to the areas where a user normally checks in. And therefore it can be used to score a \"novelty\" or \"anomaly\" factor given the location of a given event\n",
    "\n",
    "We will analyze this events from a public dataset shared by Gowalla on venues checkins registered between 2008 and 2010. This notebook will cover some typical data science steps:\n",
    "\n",
    "  - data acquisition\n",
    "  - data preparation\n",
    "  - data exploration\n",
    "  \n",
    "Thereafter, we will dive into some unsupervised learning techniques: *k-means* and *dbscan* clustering, respectively for recommending popular venues and for determining outliers."
   ]
  },
  {
   "cell_type": "markdown",
   "metadata": {},
   "source": [
    "## Imports"
   ]
  },
  {
   "cell_type": "code",
   "execution_count": 26,
   "metadata": {
    "collapsed": false
   },
   "outputs": [],
   "source": [
    "# utils\n",
    "import os\n",
    "\n",
    "# cassandra driver\n",
    "from cassandra.cluster import Cluster\n",
    "from cassandra.cluster import SimpleStatement, ConsistencyLevel\n",
    "\n",
    "# serialize/deserialize models\n",
    "import pickle\n",
    "\n",
    "# augment data\n",
    "import urllib, urllib.request\n",
    "import json"
   ]
  },
  {
   "cell_type": "code",
   "execution_count": 111,
   "metadata": {
    "collapsed": true
   },
   "outputs": [],
   "source": [
    "# init\n",
    "datadir = './data'\n",
    "\n",
    "# connect to cassandra\n",
    "CASSANDRA_NODES = [ os.getenv('CASSANDRA_NODE', '127.0.0.1') ]\n",
    "\n",
    "cluster = Cluster(CASSANDRA_NODES)\n",
    "session = cluster.connect()"
   ]
  },
  {
   "cell_type": "markdown",
   "metadata": {},
   "source": [
    "### Extra: augment data information with wikipedia data"
   ]
  },
  {
   "cell_type": "markdown",
   "metadata": {},
   "source": [
    "Fetch the wikipedia page url of a given topic from wikipedia"
   ]
  },
  {
   "cell_type": "code",
   "execution_count": 137,
   "metadata": {
    "collapsed": true
   },
   "outputs": [],
   "source": [
    "def geturl(s):\n",
    "    s=urllib.parse.quote(s)\n",
    "    wiki_url = ''\n",
    "    try:\n",
    "        url='https://en.wikipedia.org/w/api.php?action=opensearch&search={}&limit=1&format=json'.format(s)\n",
    "        req = urllib.request.Request(url)\n",
    "        resp = urllib.request.urlopen(req)\n",
    "        wiki_url = json.loads(resp.read().decode('utf-8'))[3][0]\n",
    "    finally:\n",
    "        return wiki_url"
   ]
  },
  {
   "cell_type": "code",
   "execution_count": 142,
   "metadata": {
    "collapsed": false
   },
   "outputs": [
    {
     "data": {
      "text/plain": [
       "'https://en.wikipedia.org/wiki/Wall_Street_Bull'"
      ]
     },
     "execution_count": 142,
     "metadata": {},
     "output_type": "execute_result"
    }
   ],
   "source": [
    "geturl('Wall Street Bull')"
   ]
  },
  {
   "cell_type": "markdown",
   "metadata": {},
   "source": [
    "### Load the model"
   ]
  },
  {
   "cell_type": "code",
   "execution_count": 75,
   "metadata": {
    "collapsed": false
   },
   "outputs": [],
   "source": [
    "cql_stmt = \"SELECT model from lbsn.models where mid='kmeans'\"\n",
    "rows = session.execute(cql_stmt)\n",
    "ml = pickle.loads(rows[0].model)\n",
    "\n",
    "# prepared statement for getting the name of the top venue in a given cluster\n",
    "cql_prepared = session.prepare(\"SELECT * from lbsn.kmeans_topvenues where cid= ? LIMIT ?\")"
   ]
  },
  {
   "cell_type": "markdown",
   "metadata": {},
   "source": [
    "### Score the geo-located event (lon, lat) "
   ]
  },
  {
   "cell_type": "markdown",
   "metadata": {},
   "source": [
    "- score the co-ordinates against the kmeans model\n",
    "- get the venue wikipedia url in the cassandra table, if not available,  \n",
    "- fetch the wikipedia page url of a given topic from wikipedia\n",
    "- cache it in cassandra for further use"
   ]
  },
  {
   "cell_type": "code",
   "execution_count": 145,
   "metadata": {
    "collapsed": false
   },
   "outputs": [],
   "source": [
    "def score(lon, lat):\n",
    "    cl = ml.predict([[lon, lat]])[0]\n",
    "    \n",
    "    keys = cluster.metadata.keyspaces['lbsn'].tables['kmeans_topvenues'].columns.keys()\n",
    "    rows = session.execute(cql_prepared.bind((cl,1)))\n",
    "    \n",
    "    #package result as a dictionary\n",
    "    d = dict(zip(keys,list(rows[0])))\n",
    "    \n",
    "    if d['url'] == None:\n",
    "        #get the url from wikipedia\n",
    "        d['url']  = geturl(d['name'])\n",
    "        \n",
    "        #cache\n",
    "        cql_stmt = \"UPDATE lbsn.kmeans_topvenues SET url = '{}' WHERE cid = {}\".format(d['url'], d['cid'])\n",
    "        rows = session.execute(cql_stmt)\n",
    "\n",
    "    return d"
   ]
  },
  {
   "cell_type": "code",
   "execution_count": 149,
   "metadata": {
    "collapsed": false
   },
   "outputs": [
    {
     "data": {
      "text/plain": [
       "{'cid': 16,\n",
       " 'count': 133,\n",
       " 'lat': 40.7034970026,\n",
       " 'lon': -74.0160512924,\n",
       " 'name': 'Battery Park',\n",
       " 'url': 'https://en.wikipedia.org/wiki/Battery_Park'}"
      ]
     },
     "execution_count": 149,
     "metadata": {},
     "output_type": "execute_result"
    }
   ],
   "source": [
    "score(-74.01, 40.7)"
   ]
  },
  {
   "cell_type": "markdown",
   "metadata": {},
   "source": [
    "### Recommender and Rendering output"
   ]
  },
  {
   "cell_type": "code",
   "execution_count": null,
   "metadata": {
    "collapsed": false
   },
   "outputs": [],
   "source": [
    "# Tip:\n",
    "# The smallest possible templating engine on python, \n",
    "# including variable substitutions!\n",
    "\n",
    "#variables\n",
    "d = {'action':'open', 'name':'sesame'}\n",
    "\n",
    "#tamplate engine!\n",
    "\"{action}, {name}!\".format(**d)"
   ]
  },
  {
   "cell_type": "code",
   "execution_count": 175,
   "metadata": {
    "collapsed": false
   },
   "outputs": [],
   "source": [
    "def html_template(d):\n",
    "    def link(url, text):\n",
    "        return '<a href=\"{}\">{}</a>'.format(url, text) if url else text\n",
    "    \n",
    "    # url to html tags\n",
    "    d['url_html'] = link(d['url'], d['name'])\n",
    "    \n",
    "    # template!\n",
    "    tmpl = 'What about visiting the {url_html}?'\n",
    "    \n",
    "    #render\n",
    "    output = tmpl.format(**d)\n",
    "    \n",
    "    return output\n",
    "\n",
    "def recommender(lon,lat, format='json', notebook=False):\n",
    "    d = score(lon, lat)\n",
    "    \n",
    "    name = d['name']\n",
    "    url  = d['url']\n",
    "    \n",
    "    # optionally add extra data suggestion \n",
    "    # based on the information available\n",
    "    output = html_template(d) if format=='html'else json.dumps(d)\n",
    "    \n",
    "    if notebook:\n",
    "        from IPython.display import HTML\n",
    "        return HTML(output)\n",
    "    else:\n",
    "        return output"
   ]
  },
  {
   "cell_type": "code",
   "execution_count": 178,
   "metadata": {
    "collapsed": false
   },
   "outputs": [
    {
     "data": {
      "text/html": [
       "What about visiting the <a href=\"https://en.wikipedia.org/wiki/Battery_Park\">Battery Park</a>?"
      ],
      "text/plain": [
       "<IPython.core.display.HTML object>"
      ]
     },
     "execution_count": 178,
     "metadata": {},
     "output_type": "execute_result"
    }
   ],
   "source": [
    "recommender(-74.01, 40.7, 'html', notebook=True)"
   ]
  },
  {
   "cell_type": "code",
   "execution_count": 64,
   "metadata": {
    "collapsed": false
   },
   "outputs": [
    {
     "data": {
      "text/html": [
       "What about visiting the <a href=\"h\">Whitney Museum of Art</a>?"
      ],
      "text/plain": [
       "<IPython.core.display.HTML object>"
      ]
     },
     "execution_count": 64,
     "metadata": {},
     "output_type": "execute_result"
    }
   ],
   "source": [
    "recommender(-74.97, 41.51, 'html', notebook=True)"
   ]
  },
  {
   "cell_type": "code",
   "execution_count": null,
   "metadata": {
    "collapsed": false
   },
   "outputs": [],
   "source": [
    "recommender(-74, 40.55)"
   ]
  },
  {
   "cell_type": "markdown",
   "metadata": {},
   "source": [
    "### Building the REST service"
   ]
  },
  {
   "cell_type": "code",
   "execution_count": null,
   "metadata": {
    "collapsed": false
   },
   "outputs": [],
   "source": [
    "from flask import Flask\n",
    "app = Flask(\"venue_recommender\")\n",
    "\n",
    "@app.route(\"/venues/recommender/<lon>,<lat>\")\n",
    "def recommender_api(lon, lat):\n",
    "        return recommender(float(lon), float(lat))\n",
    "\n",
    "app.run()"
   ]
  },
  {
   "cell_type": "code",
   "execution_count": null,
   "metadata": {
    "collapsed": true
   },
   "outputs": [],
   "source": []
  }
 ],
 "metadata": {
  "kernelspec": {
   "display_name": "Python 3",
   "language": "python",
   "name": "python3"
  },
  "language_info": {
   "codemirror_mode": {
    "name": "ipython",
    "version": 3
   },
   "file_extension": ".py",
   "mimetype": "text/x-python",
   "name": "python",
   "nbconvert_exporter": "python",
   "pygments_lexer": "ipython3",
   "version": "3.5.1"
  }
 },
 "nbformat": 4,
 "nbformat_minor": 0
}
