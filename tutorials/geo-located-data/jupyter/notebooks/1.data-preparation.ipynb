{
 "cells": [
  {
   "cell_type": "markdown",
   "metadata": {},
   "source": [
    "## Imports"
   ]
  },
  {
   "cell_type": "code",
   "execution_count": 3,
   "metadata": {
    "collapsed": false
   },
   "outputs": [],
   "source": [
    "#data import\n",
    "import wget\n",
    "import urllib, json\n",
    "import zipfile\n",
    "\n",
    "#string regex\n",
    "import re\n",
    "\n",
    "#time\n",
    "import pytz as tz\n",
    "from datetime import datetime\n",
    "\n",
    "#data explore\n",
    "import numpy as np\n",
    "np.random.seed(1337)\n",
    "\n",
    "import pandas as pd\n"
   ]
  },
  {
   "cell_type": "markdown",
   "metadata": {},
   "source": [
    "## Data Aquisition\n",
    "### The Gowalla Dataset\n",
    "\n",
    "The Gowalla dataset provides the anonymozed users who are registering at a specific geolocated venue at a specific timestamp.   \n",
    "The dataset [1] is available in from https://snap.stanford.edu/data/loc-gowalla.html\n",
    "\n",
    "[1] E. Cho, S. A. Myers, J. Leskovec. Friendship and Mobility: Friendship and Mobility: User Movement in Location-Based Social Networks ACM SIGKDD International Conference on Knowledge Discovery and Data Mining (KDD), 2011.\n"
   ]
  },
  {
   "cell_type": "code",
   "execution_count": 4,
   "metadata": {
    "collapsed": false
   },
   "outputs": [],
   "source": [
    "import os\n",
    "import shutil\n",
    "\n",
    "datadir = './data'\n",
    "if not os.path.exists(datadir):\n",
    "    os.makedirs(datadir)"
   ]
  },
  {
   "cell_type": "code",
   "execution_count": 5,
   "metadata": {
    "collapsed": false
   },
   "outputs": [],
   "source": [
    "# users events\n",
    "\n",
    "url = 'https://snap.stanford.edu/data/loc-gowalla_totalCheckins.txt.gz' \n",
    "filename = os.path.join(datadir, 'gowalla_events.csv.gz')\n",
    "\n",
    "if not os.path.isfile(filename):\n",
    "    wget.download(url, out=filename)\n",
    "    \n",
    "# no need to uncompress, pandas can read compressed csv files, \n",
    "# by inferring the compression type from the filename extension"
   ]
  },
  {
   "cell_type": "code",
   "execution_count": 6,
   "metadata": {
    "collapsed": false
   },
   "outputs": [],
   "source": [
    "# users graph\n",
    "\n",
    "url = 'https://snap.stanford.edu/data/loc-gowalla_edges.txt.gz' \n",
    "filename = os.path.join(datadir, 'gowalla_users.csv.gz')\n",
    "\n",
    "if not os.path.isfile(filename):\n",
    "    wget.download(url, out=filename)\n",
    "    \n",
    "# no need to uncompress, pandas can read compressed csv files, \n",
    "# by inferring the compression type from the filename extension"
   ]
  },
  {
   "cell_type": "markdown",
   "metadata": {},
   "source": [
    "The venues names [2] in New York City are fetched from :   \n",
    "https://storage.googleapis.com/google-code-archive-downloads/v2/code.google.com/locrec/gowalla-dataset.zip   \n",
    "\n",
    "[2] The project is being developed in the context of the SInteliGIS project financed by the Portuguese Foundation for Science and Technology (FCT) through project grant PTDC/EIA-EIA/109840/2009. \n"
   ]
  },
  {
   "cell_type": "code",
   "execution_count": 7,
   "metadata": {
    "collapsed": false
   },
   "outputs": [],
   "source": [
    "url = 'https://storage.googleapis.com/google-code-archive-downloads/v2/code.google.com/locrec/gowalla-dataset.zip' \n",
    "\n",
    "src_filename = os.path.join(datadir, 'gowalla-dataset.zip')\n",
    "trg_filename = os.path.join(datadir, 'gowalla_venues.csv')\n",
    "\n",
    "if not os.path.isfile(trg_filename):\n",
    "    # download\n",
    "    wget.download(url, out=src_filename)\n",
    "    \n",
    "    #extract\n",
    "    zf = zipfile.ZipFile(src_filename, 'r')\n",
    "    extracted_file = zf.extract('gowalla-dataset/spots.txt', datadir)\n",
    "\n",
    "    tmp_filename = shutil.copy(extracted_file, datadir)\n",
    "    shutil.rmtree(os.path.dirname(extracted_file))\n",
    "\n",
    "    #preprocess\n",
    "    regex = re.compile(r'POINT\\((\\-?\\d+\\.\\d+)\\s+(\\-?\\d+\\.\\d+)\\)')\n",
    "\n",
    "    with open(tmp_filename, \"r\") as src, \\\n",
    "         open(trg_filename, \"w\") as dst  :\n",
    "    \n",
    "        next(src) \n",
    "        for line in src: \n",
    "            dst.write(regex.sub(r'\\2\\t\\1', line))\n",
    "\n",
    "    #cleanup\n",
    "    os.remove(src_filename)\n",
    "    os.remove(tmp_filename)\n",
    "    "
   ]
  },
  {
   "cell_type": "markdown",
   "metadata": {},
   "source": [
    "## Data preparation\n",
    "\n",
    "### Loading the events data\n",
    "This dataset contains just 5 columns. Although the dataset contains datapoints spread out all over the world, we are going to limit our analysis to the city of New York. Let's start first by importing the data in a pandas dataframe."
   ]
  },
  {
   "cell_type": "code",
   "execution_count": 16,
   "metadata": {
    "collapsed": false
   },
   "outputs": [
    {
     "data": {
      "text/html": [
       "<div>\n",
       "<table border=\"1\" class=\"dataframe\">\n",
       "  <thead>\n",
       "    <tr style=\"text-align: right;\">\n",
       "      <th></th>\n",
       "      <th>uid</th>\n",
       "      <th>timestamp</th>\n",
       "      <th>lat</th>\n",
       "      <th>lon</th>\n",
       "      <th>vid</th>\n",
       "    </tr>\n",
       "  </thead>\n",
       "  <tbody>\n",
       "    <tr>\n",
       "      <th>0</th>\n",
       "      <td>0</td>\n",
       "      <td>2010-10-12T00:21:28Z</td>\n",
       "      <td>40.643885</td>\n",
       "      <td>-73.782806</td>\n",
       "      <td>23261</td>\n",
       "    </tr>\n",
       "    <tr>\n",
       "      <th>1</th>\n",
       "      <td>0</td>\n",
       "      <td>2010-10-11T20:21:20Z</td>\n",
       "      <td>40.741374</td>\n",
       "      <td>-73.988105</td>\n",
       "      <td>16907</td>\n",
       "    </tr>\n",
       "    <tr>\n",
       "      <th>2</th>\n",
       "      <td>0</td>\n",
       "      <td>2010-10-11T20:20:42Z</td>\n",
       "      <td>40.741388</td>\n",
       "      <td>-73.989455</td>\n",
       "      <td>12973</td>\n",
       "    </tr>\n",
       "  </tbody>\n",
       "</table>\n",
       "</div>"
      ],
      "text/plain": [
       "   uid             timestamp        lat        lon    vid\n",
       "0    0  2010-10-12T00:21:28Z  40.643885 -73.782806  23261\n",
       "1    0  2010-10-11T20:21:20Z  40.741374 -73.988105  16907\n",
       "2    0  2010-10-11T20:20:42Z  40.741388 -73.989455  12973"
      ]
     },
     "execution_count": 16,
     "metadata": {},
     "output_type": "execute_result"
    }
   ],
   "source": [
    "filename = os.path.join(datadir, 'gowalla_events.csv.gz')\n",
    "\n",
    "dfe = pd.read_csv(filename, sep='\\t', header=None)\n",
    "dfe.columns = ['uid','timestamp','lat','lon','vid']\n",
    "dfe.head(3)"
   ]
  },
  {
   "cell_type": "markdown",
   "metadata": {},
   "source": [
    "### Filtering New York City venues\n",
    "Now let's filter the dataset to the area of New York City.   \n",
    "\n",
    "The Flickr API provides us with the bounding box of the city.    \n",
    "`https://www.flickr.com/places/info/2459115`\n",
    "\n",
    "`\n",
    "Bounding Box:\t-74.2589, 40.4774, -73.7004, 40.9176\n",
    "Centroid:\t    -74.0071, 40.7146\n",
    "`"
   ]
  },
  {
   "cell_type": "code",
   "execution_count": 17,
   "metadata": {
    "collapsed": false
   },
   "outputs": [
    {
     "data": {
      "text/html": [
       "<div>\n",
       "<table border=\"1\" class=\"dataframe\">\n",
       "  <thead>\n",
       "    <tr style=\"text-align: right;\">\n",
       "      <th></th>\n",
       "      <th>uid</th>\n",
       "      <th>timestamp</th>\n",
       "      <th>lat</th>\n",
       "      <th>lon</th>\n",
       "      <th>vid</th>\n",
       "    </tr>\n",
       "  </thead>\n",
       "  <tbody>\n",
       "    <tr>\n",
       "      <th>0</th>\n",
       "      <td>0</td>\n",
       "      <td>2010-10-12T00:21:28Z</td>\n",
       "      <td>40.643885</td>\n",
       "      <td>-73.782806</td>\n",
       "      <td>23261</td>\n",
       "    </tr>\n",
       "    <tr>\n",
       "      <th>1</th>\n",
       "      <td>0</td>\n",
       "      <td>2010-10-11T20:21:20Z</td>\n",
       "      <td>40.741374</td>\n",
       "      <td>-73.988105</td>\n",
       "      <td>16907</td>\n",
       "    </tr>\n",
       "    <tr>\n",
       "      <th>2</th>\n",
       "      <td>0</td>\n",
       "      <td>2010-10-11T20:20:42Z</td>\n",
       "      <td>40.741388</td>\n",
       "      <td>-73.989455</td>\n",
       "      <td>12973</td>\n",
       "    </tr>\n",
       "  </tbody>\n",
       "</table>\n",
       "</div>"
      ],
      "text/plain": [
       "   uid             timestamp        lat        lon    vid\n",
       "0    0  2010-10-12T00:21:28Z  40.643885 -73.782806  23261\n",
       "1    0  2010-10-11T20:21:20Z  40.741374 -73.988105  16907\n",
       "2    0  2010-10-11T20:20:42Z  40.741388 -73.989455  12973"
      ]
     },
     "execution_count": 17,
     "metadata": {},
     "output_type": "execute_result"
    }
   ],
   "source": [
    "lon_min, lat_min, lon_max, lat_max = -74.2589, 40.4774, -73.7004, 40.9176\n",
    "\n",
    "dfe = dfe[ (dfe['lon']>lon_min) & \n",
    "           (dfe['lon']<lon_max) & \n",
    "           (dfe['lat']>lat_min) & \n",
    "           (dfe['lat']<lat_max) ]\n",
    "\n",
    "dfe.head(3)"
   ]
  },
  {
   "cell_type": "code",
   "execution_count": 18,
   "metadata": {
    "collapsed": false
   },
   "outputs": [],
   "source": [
    "# Overwrite with nyc only (for the tutorial - smaller file)\n",
    "# filename = os.path.join(datadir, 'gowalla_events.csv.gz')\n",
    "# dfe.to_csv(filename, sep='\\t', index=False, header=None, compression='gzip')"
   ]
  },
  {
   "cell_type": "markdown",
   "metadata": {},
   "source": [
    "### Parse and localize Date and Time"
   ]
  },
  {
   "cell_type": "code",
   "execution_count": 19,
   "metadata": {
    "collapsed": false
   },
   "outputs": [
    {
     "data": {
      "text/html": [
       "<div>\n",
       "<table border=\"1\" class=\"dataframe\">\n",
       "  <thead>\n",
       "    <tr style=\"text-align: right;\">\n",
       "      <th></th>\n",
       "      <th>uid</th>\n",
       "      <th>lat</th>\n",
       "      <th>lon</th>\n",
       "      <th>vid</th>\n",
       "      <th>ts</th>\n",
       "    </tr>\n",
       "  </thead>\n",
       "  <tbody>\n",
       "    <tr>\n",
       "      <th>0</th>\n",
       "      <td>0</td>\n",
       "      <td>40.643885</td>\n",
       "      <td>-73.782806</td>\n",
       "      <td>23261</td>\n",
       "      <td>2010-10-11 20:21:28-04:00</td>\n",
       "    </tr>\n",
       "    <tr>\n",
       "      <th>1</th>\n",
       "      <td>0</td>\n",
       "      <td>40.741374</td>\n",
       "      <td>-73.988105</td>\n",
       "      <td>16907</td>\n",
       "      <td>2010-10-11 16:21:20-04:00</td>\n",
       "    </tr>\n",
       "    <tr>\n",
       "      <th>2</th>\n",
       "      <td>0</td>\n",
       "      <td>40.741388</td>\n",
       "      <td>-73.989455</td>\n",
       "      <td>12973</td>\n",
       "      <td>2010-10-11 16:20:42-04:00</td>\n",
       "    </tr>\n",
       "  </tbody>\n",
       "</table>\n",
       "</div>"
      ],
      "text/plain": [
       "   uid        lat        lon    vid                        ts\n",
       "0    0  40.643885 -73.782806  23261 2010-10-11 20:21:28-04:00\n",
       "1    0  40.741374 -73.988105  16907 2010-10-11 16:21:20-04:00\n",
       "2    0  40.741388 -73.989455  12973 2010-10-11 16:20:42-04:00"
      ]
     },
     "execution_count": 19,
     "metadata": {},
     "output_type": "execute_result"
    }
   ],
   "source": [
    "def parse_datetime(s):\n",
    "    tzone = tz.timezone(\"America/New_York\")\n",
    "    utc = datetime.strptime(s, '%Y-%m-%dT%H:%M:%SZ')\n",
    "    return tz.utc.localize(utc).astimezone(tzone)\n",
    "\n",
    "dfe['ts'] = dfe['timestamp'].apply(lambda x: parse_datetime(x))\n",
    "dfe = dfe.drop('timestamp',axis=1,errors='ignore')\n",
    "\n",
    "dfe.head(3)"
   ]
  },
  {
   "cell_type": "markdown",
   "metadata": {},
   "source": [
    "### Loading the venues data\n",
    "This dataset contains just 4 columns. Let's start first by importing the data in a pandas dataframe."
   ]
  },
  {
   "cell_type": "code",
   "execution_count": 20,
   "metadata": {
    "collapsed": false
   },
   "outputs": [
    {
     "data": {
      "text/html": [
       "<div>\n",
       "<table border=\"1\" class=\"dataframe\">\n",
       "  <thead>\n",
       "    <tr style=\"text-align: right;\">\n",
       "      <th></th>\n",
       "      <th>vid</th>\n",
       "      <th>name</th>\n",
       "      <th>lat</th>\n",
       "      <th>lon</th>\n",
       "    </tr>\n",
       "  </thead>\n",
       "  <tbody>\n",
       "    <tr>\n",
       "      <th>0</th>\n",
       "      <td>1391604</td>\n",
       "      <td>Conference House Park</td>\n",
       "      <td>40.501759</td>\n",
       "      <td>-74.252343</td>\n",
       "    </tr>\n",
       "    <tr>\n",
       "      <th>1</th>\n",
       "      <td>1391611</td>\n",
       "      <td>Almer G. Russell Pavilion</td>\n",
       "      <td>40.502265</td>\n",
       "      <td>-74.254264</td>\n",
       "    </tr>\n",
       "    <tr>\n",
       "      <th>2</th>\n",
       "      <td>3612422</td>\n",
       "      <td>Conference House</td>\n",
       "      <td>40.500064</td>\n",
       "      <td>-74.249042</td>\n",
       "    </tr>\n",
       "  </tbody>\n",
       "</table>\n",
       "</div>"
      ],
      "text/plain": [
       "       vid                       name        lat        lon\n",
       "0  1391604      Conference House Park  40.501759 -74.252343\n",
       "1  1391611  Almer G. Russell Pavilion  40.502265 -74.254264\n",
       "2  3612422           Conference House  40.500064 -74.249042"
      ]
     },
     "execution_count": 20,
     "metadata": {},
     "output_type": "execute_result"
    }
   ],
   "source": [
    "filename = os.path.join(datadir, 'gowalla_venues.csv')\n",
    "\n",
    "dfv = pd.read_csv(filename, sep='\\t', header=None)\n",
    "dfv.columns = ['vid','name','lat','lon']\n",
    "dfv.head(3)"
   ]
  },
  {
   "cell_type": "markdown",
   "metadata": {},
   "source": [
    "### Loading the user graph data\n",
    "This dataset contains 2 columns. Namely who follows who."
   ]
  },
  {
   "cell_type": "code",
   "execution_count": 21,
   "metadata": {
    "collapsed": false
   },
   "outputs": [
    {
     "data": {
      "text/html": [
       "<div>\n",
       "<table border=\"1\" class=\"dataframe\">\n",
       "  <thead>\n",
       "    <tr style=\"text-align: right;\">\n",
       "      <th></th>\n",
       "      <th>uid</th>\n",
       "      <th>fid</th>\n",
       "    </tr>\n",
       "  </thead>\n",
       "  <tbody>\n",
       "    <tr>\n",
       "      <th>0</th>\n",
       "      <td>0</td>\n",
       "      <td>1</td>\n",
       "    </tr>\n",
       "    <tr>\n",
       "      <th>1</th>\n",
       "      <td>0</td>\n",
       "      <td>2</td>\n",
       "    </tr>\n",
       "    <tr>\n",
       "      <th>2</th>\n",
       "      <td>0</td>\n",
       "      <td>3</td>\n",
       "    </tr>\n",
       "  </tbody>\n",
       "</table>\n",
       "</div>"
      ],
      "text/plain": [
       "   uid  fid\n",
       "0    0    1\n",
       "1    0    2\n",
       "2    0    3"
      ]
     },
     "execution_count": 21,
     "metadata": {},
     "output_type": "execute_result"
    }
   ],
   "source": [
    "filename = os.path.join(datadir, 'gowalla_users.csv.gz')\n",
    "\n",
    "dfu = pd.read_csv(filename, sep='\\t', header=None)\n",
    "dfu.columns = ['uid','fid']\n",
    "dfu.head(3)"
   ]
  },
  {
   "cell_type": "markdown",
   "metadata": {},
   "source": [
    "### Merge events and venues data\n",
    "Let's consider only events for which the venue has a known name"
   ]
  },
  {
   "cell_type": "code",
   "execution_count": 22,
   "metadata": {
    "collapsed": false
   },
   "outputs": [],
   "source": [
    "df = pd.DataFrame.merge(dfe,dfv[['vid', 'name']], on='vid', how=\"inner\")"
   ]
  },
  {
   "cell_type": "code",
   "execution_count": 23,
   "metadata": {
    "collapsed": false
   },
   "outputs": [
    {
     "data": {
      "text/html": [
       "<div>\n",
       "<table border=\"1\" class=\"dataframe\">\n",
       "  <thead>\n",
       "    <tr style=\"text-align: right;\">\n",
       "      <th></th>\n",
       "      <th>uid</th>\n",
       "      <th>lat</th>\n",
       "      <th>lon</th>\n",
       "      <th>vid</th>\n",
       "      <th>ts</th>\n",
       "      <th>name</th>\n",
       "    </tr>\n",
       "  </thead>\n",
       "  <tbody>\n",
       "    <tr>\n",
       "      <th>1</th>\n",
       "      <td>0</td>\n",
       "      <td>40.643885</td>\n",
       "      <td>-73.782806</td>\n",
       "      <td>23261</td>\n",
       "      <td>2010-10-07 11:27:40-04:00</td>\n",
       "      <td>JFK John F. Kennedy International</td>\n",
       "    </tr>\n",
       "    <tr>\n",
       "      <th>5080</th>\n",
       "      <td>0</td>\n",
       "      <td>40.751508</td>\n",
       "      <td>-73.975500</td>\n",
       "      <td>34484</td>\n",
       "      <td>2010-10-07 16:14:44-04:00</td>\n",
       "      <td>Chrysler Building</td>\n",
       "    </tr>\n",
       "    <tr>\n",
       "      <th>4690</th>\n",
       "      <td>0</td>\n",
       "      <td>40.748444</td>\n",
       "      <td>-73.985732</td>\n",
       "      <td>12313</td>\n",
       "      <td>2010-10-07 16:31:48-04:00</td>\n",
       "      <td>Empire State Building</td>\n",
       "    </tr>\n",
       "    <tr>\n",
       "      <th>4412</th>\n",
       "      <td>0</td>\n",
       "      <td>40.745810</td>\n",
       "      <td>-73.988221</td>\n",
       "      <td>60450</td>\n",
       "      <td>2010-10-07 17:02:01-04:00</td>\n",
       "      <td>Ace Hotel</td>\n",
       "    </tr>\n",
       "    <tr>\n",
       "      <th>4153</th>\n",
       "      <td>0</td>\n",
       "      <td>40.742201</td>\n",
       "      <td>-73.987995</td>\n",
       "      <td>17710</td>\n",
       "      <td>2010-10-07 17:58:31-04:00</td>\n",
       "      <td>Madison Square Park</td>\n",
       "    </tr>\n",
       "  </tbody>\n",
       "</table>\n",
       "</div>"
      ],
      "text/plain": [
       "      uid        lat        lon    vid                        ts  \\\n",
       "1       0  40.643885 -73.782806  23261 2010-10-07 11:27:40-04:00   \n",
       "5080    0  40.751508 -73.975500  34484 2010-10-07 16:14:44-04:00   \n",
       "4690    0  40.748444 -73.985732  12313 2010-10-07 16:31:48-04:00   \n",
       "4412    0  40.745810 -73.988221  60450 2010-10-07 17:02:01-04:00   \n",
       "4153    0  40.742201 -73.987995  17710 2010-10-07 17:58:31-04:00   \n",
       "\n",
       "                                   name  \n",
       "1     JFK John F. Kennedy International  \n",
       "5080                  Chrysler Building  \n",
       "4690              Empire State Building  \n",
       "4412                          Ace Hotel  \n",
       "4153                Madison Square Park  "
      ]
     },
     "execution_count": 23,
     "metadata": {},
     "output_type": "execute_result"
    }
   ],
   "source": [
    "df[df['uid']==0].sort_values(by='ts').head(5)"
   ]
  },
  {
   "cell_type": "code",
   "execution_count": 24,
   "metadata": {
    "collapsed": false
   },
   "outputs": [],
   "source": [
    "#filter venues, users and events according to the NYC area\n",
    "dfe = df[['uid','ts','lat','lon','vid']]\n",
    "dfv = dfv[dfv['vid'].isin(df['vid'].unique())]\n",
    "\n",
    "dfu = dfu[dfu['uid'].isin(df['uid'].unique())]\n",
    "dfu = dfu[dfu['fid'].isin(df['uid'].unique())]"
   ]
  },
  {
   "cell_type": "markdown",
   "metadata": {},
   "source": [
    "### Save data for New York City\n",
    "Let's consider only events and user from the given geographical area.  \n",
    "For this tutorial, we will save it in the following three tables\n",
    "  - events\n",
    "  - venues\n",
    "  - users"
   ]
  },
  {
   "cell_type": "code",
   "execution_count": 25,
   "metadata": {
    "collapsed": true
   },
   "outputs": [],
   "source": [
    "filename = os.path.join(datadir, 'gowalla_events.nyc.csv')\n",
    "dfe.to_csv(filename, sep='\\t', index=False)\n",
    "\n",
    "filename = os.path.join(datadir, 'gowalla_venues.nyc.csv')\n",
    "dfv.to_csv(filename, sep='\\t', index=False)\n",
    "\n",
    "filename = os.path.join(datadir, 'gowalla_users.nyc.csv')\n",
    "dfu.to_csv(filename, sep='\\t', index=False)\n"
   ]
  },
  {
   "cell_type": "code",
   "execution_count": null,
   "metadata": {
    "collapsed": true
   },
   "outputs": [],
   "source": []
  }
 ],
 "metadata": {
  "kernelspec": {
   "display_name": "Python 3",
   "language": "python",
   "name": "python3"
  },
  "language_info": {
   "codemirror_mode": {
    "name": "ipython",
    "version": 3
   },
   "file_extension": ".py",
   "mimetype": "text/x-python",
   "name": "python",
   "nbconvert_exporter": "python",
   "pygments_lexer": "ipython3",
   "version": "3.5.1"
  }
 },
 "nbformat": 4,
 "nbformat_minor": 0
}
