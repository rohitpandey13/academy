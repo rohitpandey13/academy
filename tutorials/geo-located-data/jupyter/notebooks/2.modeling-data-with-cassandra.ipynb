{
 "cells": [
  {
   "cell_type": "markdown",
   "metadata": {},
   "source": [
    "## Modeling the dataset with Cassandra"
   ]
  },
  {
   "cell_type": "markdown",
   "metadata": {},
   "source": [
    "### Imports"
   ]
  },
  {
   "cell_type": "code",
   "execution_count": null,
   "metadata": {
    "collapsed": true
   },
   "outputs": [],
   "source": [
    "# os\n",
    "import os\n",
    "\n",
    "# cassandra driver\n",
    "from cassandra.cluster import Cluster\n",
    "from cassandra.cluster import SimpleStatement, ConsistencyLevel\n",
    "\n",
    "# pandas\n",
    "import pandas as pd"
   ]
  },
  {
   "cell_type": "code",
   "execution_count": 2,
   "metadata": {
    "collapsed": true
   },
   "outputs": [],
   "source": [
    "datadir = './data'"
   ]
  },
  {
   "cell_type": "markdown",
   "metadata": {},
   "source": [
    "### Connecting to Cassandra"
   ]
  },
  {
   "cell_type": "code",
   "execution_count": 8,
   "metadata": {
    "collapsed": false
   },
   "outputs": [],
   "source": [
    "CASSANDRA_NODES = [ os.getenv('CASSANDRA_NODE', '127.0.0.1') ]\n",
    "\n",
    "cluster = Cluster(CASSANDRA_NODES)\n",
    "session = cluster.connect()"
   ]
  },
  {
   "cell_type": "code",
   "execution_count": 355,
   "metadata": {
    "collapsed": false
   },
   "outputs": [
    {
     "data": {
      "text/plain": [
       "dict_keys(['system_auth', 'system', 'system_distributed', 'system_traces', 'system_schema', 'lbsn'])"
      ]
     },
     "execution_count": 355,
     "metadata": {},
     "output_type": "execute_result"
    }
   ],
   "source": [
    "#hint dir() lists all methods of a python object\n",
    "#cluster.metadata.keyspaces['lbsn'].tables['venues'].columns['vid'].cql_type\n",
    "cluster.metadata.keyspaces.keys()"
   ]
  },
  {
   "cell_type": "code",
   "execution_count": 56,
   "metadata": {
    "collapsed": false
   },
   "outputs": [],
   "source": [
    "if 'lbsn' in cluster.metadata.keyspaces.keys():\n",
    "    session.execute(\"DROP KEYSPACE lbsn\")\n",
    "\n",
    "# or more simply\n",
    "session.execute(\"DROP KEYSPACE IF EXISTS lbsn\");"
   ]
  },
  {
   "cell_type": "code",
   "execution_count": 57,
   "metadata": {
    "collapsed": false
   },
   "outputs": [],
   "source": [
    "cql_stmt = \"\"\"\n",
    "    CREATE KEYSPACE IF NOT EXISTS lbsn \n",
    "    WITH replication = {'class': 'SimpleStrategy', 'replication_factor': '1' } \n",
    "\"\"\"\n",
    "result = session.execute(cql_stmt)"
   ]
  },
  {
   "cell_type": "code",
   "execution_count": 58,
   "metadata": {
    "collapsed": false
   },
   "outputs": [],
   "source": [
    "cql_stmt = \"\"\"\n",
    "    CREATE TABLE lbsn.events (\n",
    "      uid     bigint,\n",
    "      ts      timestamp,\n",
    "      lat     double,\n",
    "      lon     double,\n",
    "      vid     bigint,\n",
    "      PRIMARY KEY (uid, ts)\n",
    "    ) WITH CLUSTERING ORDER BY (ts DESC);\n",
    "\"\"\"\n",
    "result = session.execute(cql_stmt)"
   ]
  },
  {
   "cell_type": "code",
   "execution_count": 165,
   "metadata": {
    "collapsed": false
   },
   "outputs": [],
   "source": [
    "session.execute(\"DROP TABLE IF EXISTS lbsn.users\");\n",
    "\n",
    "cql_stmt = \"\"\"\n",
    "    CREATE TABLE lbsn.users (\n",
    "      uid     bigint,\n",
    "      fid      bigint,\n",
    "      PRIMARY KEY (uid, fid)\n",
    "    );\n",
    "\"\"\"\n",
    "result = session.execute(cql_stmt)"
   ]
  },
  {
   "cell_type": "code",
   "execution_count": 166,
   "metadata": {
    "collapsed": false
   },
   "outputs": [],
   "source": [
    "session.execute(\"DROP TABLE IF EXISTS lbsn.venues\");\n",
    "\n",
    "cql_stmt = \"\"\"\n",
    "    CREATE TABLE lbsn.venues (\n",
    "      vid   bigint, \n",
    "      name  text,\n",
    "      lat   double,\n",
    "      lon   double,\n",
    "      PRIMARY KEY (vid)\n",
    "    );\n",
    "\"\"\"\n",
    "result = session.execute(cql_stmt)"
   ]
  },
  {
   "cell_type": "code",
   "execution_count": 268,
   "metadata": {
    "collapsed": false
   },
   "outputs": [],
   "source": [
    "filename = os.path.join(datadir, 'gowalla_events.nyc.csv')\n",
    "\n",
    "#clear the table before inserting data from file\n",
    "result = session.execute(\"TRUNCATE lbsn.events;\")\n",
    "\n",
    "with open(filename) as f:\n",
    "    header_line = next(f)\n",
    "    for line in f:\n",
    "        # strip and split using tabs\n",
    "        e = line.strip().split('\\t')\n",
    "        \n",
    "        cql_stmt = \"\"\" \n",
    "            INSERT INTO lbsn.events (uid, ts, lat, lon, vid) \n",
    "                values ({}, '{}', {}, {}, {})\"\"\".format(*e)\n",
    "        \n",
    "        query = SimpleStatement (cql_stmt,consistency_level=ConsistencyLevel.ONE)\n",
    "        session.execute_async(query)"
   ]
  },
  {
   "cell_type": "code",
   "execution_count": 269,
   "metadata": {
    "collapsed": false
   },
   "outputs": [
    {
     "name": "stdout",
     "output_type": "stream",
     "text": [
      "Column names:\n",
      "['uid', 'ts', 'lat', 'lon', 'vid']\n",
      "\n",
      "Rows:\n",
      "[0, datetime.datetime(2010, 10, 12, 0, 21, 28), 40.6438845363, -73.78280639649999, 23261]\n",
      "[0, datetime.datetime(2010, 10, 11, 20, 21, 20), 40.74137425, -73.9881052167, 16907]\n",
      "[0, datetime.datetime(2010, 10, 11, 20, 20, 42), 40.741388197, -73.98945450779999, 12973]\n",
      "[0, datetime.datetime(2010, 10, 11, 0, 6, 30), 40.724910334499995, -73.9946207517, 341255]\n",
      "[0, datetime.datetime(2010, 10, 10, 22, 0, 37), 40.729768314, -73.9985353275, 260957]\n"
     ]
    }
   ],
   "source": [
    "cql_stmt = \"\"\"\n",
    "    SELECT * from lbsn.events where uid=0 limit 5;\n",
    "\"\"\"\n",
    "rows = session.execute(cql_stmt)\n",
    "\n",
    "print(\"Column names:\")\n",
    "print(rows.column_names)\n",
    "\n",
    "print(\"\\nRows:\")\n",
    "for row in rows:\n",
    "    print(list(row))"
   ]
  },
  {
   "cell_type": "code",
   "execution_count": 270,
   "metadata": {
    "collapsed": false
   },
   "outputs": [
    {
     "data": {
      "text/html": [
       "<div>\n",
       "<table border=\"1\" class=\"dataframe\">\n",
       "  <thead>\n",
       "    <tr style=\"text-align: right;\">\n",
       "      <th></th>\n",
       "      <th>uid</th>\n",
       "      <th>ts</th>\n",
       "      <th>lat</th>\n",
       "      <th>lon</th>\n",
       "      <th>vid</th>\n",
       "    </tr>\n",
       "  </thead>\n",
       "  <tbody>\n",
       "    <tr>\n",
       "      <th>0</th>\n",
       "      <td>0</td>\n",
       "      <td>2010-10-12 00:21:28</td>\n",
       "      <td>40.643885</td>\n",
       "      <td>-73.782806</td>\n",
       "      <td>23261</td>\n",
       "    </tr>\n",
       "    <tr>\n",
       "      <th>1</th>\n",
       "      <td>0</td>\n",
       "      <td>2010-10-11 20:21:20</td>\n",
       "      <td>40.741374</td>\n",
       "      <td>-73.988105</td>\n",
       "      <td>16907</td>\n",
       "    </tr>\n",
       "    <tr>\n",
       "      <th>2</th>\n",
       "      <td>0</td>\n",
       "      <td>2010-10-11 20:20:42</td>\n",
       "      <td>40.741388</td>\n",
       "      <td>-73.989455</td>\n",
       "      <td>12973</td>\n",
       "    </tr>\n",
       "    <tr>\n",
       "      <th>3</th>\n",
       "      <td>0</td>\n",
       "      <td>2010-10-11 00:06:30</td>\n",
       "      <td>40.724910</td>\n",
       "      <td>-73.994621</td>\n",
       "      <td>341255</td>\n",
       "    </tr>\n",
       "    <tr>\n",
       "      <th>4</th>\n",
       "      <td>0</td>\n",
       "      <td>2010-10-10 22:00:37</td>\n",
       "      <td>40.729768</td>\n",
       "      <td>-73.998535</td>\n",
       "      <td>260957</td>\n",
       "    </tr>\n",
       "  </tbody>\n",
       "</table>\n",
       "</div>"
      ],
      "text/plain": [
       "   uid                  ts        lat        lon     vid\n",
       "0    0 2010-10-12 00:21:28  40.643885 -73.782806   23261\n",
       "1    0 2010-10-11 20:21:20  40.741374 -73.988105   16907\n",
       "2    0 2010-10-11 20:20:42  40.741388 -73.989455   12973\n",
       "3    0 2010-10-11 00:06:30  40.724910 -73.994621  341255\n",
       "4    0 2010-10-10 22:00:37  40.729768 -73.998535  260957"
      ]
     },
     "execution_count": 270,
     "metadata": {},
     "output_type": "execute_result"
    }
   ],
   "source": [
    "cql_stmt = \"\"\"\n",
    "    SELECT * from lbsn.events where uid=0 limit 5;\n",
    "\"\"\"\n",
    "rows = session.execute(cql_stmt)\n",
    "df = pd.DataFrame(list(rows))\n",
    "df"
   ]
  },
  {
   "cell_type": "code",
   "execution_count": 291,
   "metadata": {
    "collapsed": false
   },
   "outputs": [
    {
     "data": {
      "text/plain": [
       "uid    112383\n",
       "ts     112383\n",
       "lat    112383\n",
       "lon    112383\n",
       "vid    112383\n",
       "dtype: int64"
      ]
     },
     "execution_count": 291,
     "metadata": {},
     "output_type": "execute_result"
    }
   ],
   "source": [
    "cql_stmt = \"\"\"\n",
    "    SELECT * from lbsn.events ;\n",
    "\"\"\"\n",
    "rows = session.execute(cql_stmt)\n",
    "df = pd.DataFrame(list(rows))\n",
    "df.count()"
   ]
  },
  {
   "cell_type": "code",
   "execution_count": 278,
   "metadata": {
    "collapsed": false
   },
   "outputs": [],
   "source": [
    "#single threaded operation look here for multithreading \n",
    "#http://stackoverflow.com/questions/33153518/python-cassandra-driver-same-insert-performance-as-copy\n",
    "\n",
    "def copy(session, keyspace, table, filename, sep='\\t', header=True, cols={}):\n",
    "    # cols is a dict in the form {'cvs_colname' : 'table_colname'}\n",
    "    # optional for cvs to table column translation\n",
    "    \n",
    "    #metadata for the cassandra columns in the given table\n",
    "    columns = session.cluster.metadata.keyspaces[keyspace].tables[table].columns\n",
    "    \n",
    "    #get all columns defs\n",
    "    if not cols:\n",
    "        c = columns.keys()\n",
    "        cols = dict(zip(c,c))\n",
    "    \n",
    "    # traslate column names from file to table\n",
    "    def translate_names(names):\n",
    "        return [ cols.get(x, x) for x in names]\n",
    "    \n",
    "    #value needs quotes\n",
    "    def needs_quotes(names) :\n",
    "        quoted_types = ['text', 'timestamp', 'varchar', 'inet', 'ascii']\n",
    "        return [ columns[i].cql_type in quoted_types for i in names ]\n",
    "        \n",
    "    #from csv to valid cql quoted list of values\n",
    "    # https://docs.datastax.com/en/cql/3.3/cql/cql_reference/valid_literal_r.html\n",
    "    # https://docs.datastax.com/en/cql/3.3/cql/cql_reference/escape_char_r.html\n",
    "    def csv(s, q):\n",
    "        l = s.strip().split(sep)\n",
    "        l = [ '\\'%s\\'' % x[1].replace(\"'\", \"''\") if x[0] else x[1] for x in list(zip(q, l)) ]\n",
    "        return ','.join(l)\n",
    "        \n",
    "    with open(filename) as f:\n",
    "        #header\n",
    "        if header:\n",
    "            h = next(f).strip().split(sep)\n",
    "            h = translate_names(h)\n",
    "        else:\n",
    "            #if not found assume all columns are in the csv file\n",
    "            # with the same order as in the cassandra table definition\n",
    "            h = columns.keys()\n",
    "            \n",
    "        #csv colunm names\n",
    "        c = ','.join(h)\n",
    "        q = needs_quotes(h)\n",
    "        \n",
    "        n = 0; i = 0\n",
    "        for line in f:\n",
    "            cql_stmt = \"INSERT INTO {}.{} ({}) values ({})\".format(keyspace, table, c, csv(line,q))\n",
    "            query = SimpleStatement (cql_stmt,consistency_level=ConsistencyLevel.ONE)\n",
    "            try:\n",
    "                session.execute(query)\n",
    "                i +=1\n",
    "            except:\n",
    "                print(query)\n",
    "                pass\n",
    "            n +=1\n",
    "            \n",
    "    print(\"written {} of {} records\".format(i,n))"
   ]
  },
  {
   "cell_type": "code",
   "execution_count": 280,
   "metadata": {
    "collapsed": false
   },
   "outputs": [
    {
     "name": "stdout",
     "output_type": "stream",
     "text": [
      "written 30042 of 30042 records\n"
     ]
    }
   ],
   "source": [
    "filename = os.path.join(datadir, 'gowalla_users.nyc.csv')\n",
    "\n",
    "session.execute(\"TRUNCATE lbsn.users;\")\n",
    "copy(session,'lbsn','users', filename)"
   ]
  },
  {
   "cell_type": "code",
   "execution_count": 281,
   "metadata": {
    "collapsed": false
   },
   "outputs": [
    {
     "data": {
      "text/html": [
       "<div>\n",
       "<table border=\"1\" class=\"dataframe\">\n",
       "  <thead>\n",
       "    <tr style=\"text-align: right;\">\n",
       "      <th></th>\n",
       "      <th>uid</th>\n",
       "      <th>fid</th>\n",
       "    </tr>\n",
       "  </thead>\n",
       "  <tbody>\n",
       "    <tr>\n",
       "      <th>0</th>\n",
       "      <td>29720</td>\n",
       "      <td>459</td>\n",
       "    </tr>\n",
       "    <tr>\n",
       "      <th>1</th>\n",
       "      <td>29720</td>\n",
       "      <td>1557</td>\n",
       "    </tr>\n",
       "    <tr>\n",
       "      <th>2</th>\n",
       "      <td>29720</td>\n",
       "      <td>29094</td>\n",
       "    </tr>\n",
       "    <tr>\n",
       "      <th>3</th>\n",
       "      <td>3236</td>\n",
       "      <td>29221</td>\n",
       "    </tr>\n",
       "    <tr>\n",
       "      <th>4</th>\n",
       "      <td>3236</td>\n",
       "      <td>66893</td>\n",
       "    </tr>\n",
       "  </tbody>\n",
       "</table>\n",
       "</div>"
      ],
      "text/plain": [
       "     uid    fid\n",
       "0  29720    459\n",
       "1  29720   1557\n",
       "2  29720  29094\n",
       "3   3236  29221\n",
       "4   3236  66893"
      ]
     },
     "execution_count": 281,
     "metadata": {},
     "output_type": "execute_result"
    }
   ],
   "source": [
    "cql_stmt = \"\"\"\n",
    "    SELECT * from lbsn.users limit 5;\n",
    "\"\"\"\n",
    "rows = session.execute(cql_stmt)\n",
    "df = pd.DataFrame(list(rows))\n",
    "df"
   ]
  },
  {
   "cell_type": "code",
   "execution_count": 279,
   "metadata": {
    "collapsed": false
   },
   "outputs": [
    {
     "name": "stdout",
     "output_type": "stream",
     "text": [
      "written 17291 of 17291 records\n"
     ]
    }
   ],
   "source": [
    "filename = os.path.join(datadir, 'gowalla_venues.nyc.csv')\n",
    "\n",
    "session.execute(\"TRUNCATE lbsn.venues;\")\n",
    "copy(session, 'lbsn','venues', filename)"
   ]
  },
  {
   "cell_type": "code",
   "execution_count": 267,
   "metadata": {
    "collapsed": false
   },
   "outputs": [
    {
     "data": {
      "text/html": [
       "<div>\n",
       "<table border=\"1\" class=\"dataframe\">\n",
       "  <thead>\n",
       "    <tr style=\"text-align: right;\">\n",
       "      <th></th>\n",
       "      <th>vid</th>\n",
       "      <th>lat</th>\n",
       "      <th>lon</th>\n",
       "      <th>name</th>\n",
       "    </tr>\n",
       "  </thead>\n",
       "  <tbody>\n",
       "    <tr>\n",
       "      <th>0</th>\n",
       "      <td>12775</td>\n",
       "      <td>40.756659</td>\n",
       "      <td>-73.925328</td>\n",
       "      <td>Sunswick</td>\n",
       "    </tr>\n",
       "    <tr>\n",
       "      <th>1</th>\n",
       "      <td>1198814</td>\n",
       "      <td>40.735735</td>\n",
       "      <td>-74.065016</td>\n",
       "      <td>Dosa House</td>\n",
       "    </tr>\n",
       "    <tr>\n",
       "      <th>2</th>\n",
       "      <td>635262</td>\n",
       "      <td>40.752903</td>\n",
       "      <td>-73.972764</td>\n",
       "      <td>Kushi Q</td>\n",
       "    </tr>\n",
       "    <tr>\n",
       "      <th>3</th>\n",
       "      <td>936046</td>\n",
       "      <td>40.752021</td>\n",
       "      <td>-74.045370</td>\n",
       "      <td>C-Town</td>\n",
       "    </tr>\n",
       "    <tr>\n",
       "      <th>4</th>\n",
       "      <td>587968</td>\n",
       "      <td>40.718743</td>\n",
       "      <td>-73.999507</td>\n",
       "      <td>Lunch Box Buffet</td>\n",
       "    </tr>\n",
       "  </tbody>\n",
       "</table>\n",
       "</div>"
      ],
      "text/plain": [
       "       vid        lat        lon              name\n",
       "0    12775  40.756659 -73.925328          Sunswick\n",
       "1  1198814  40.735735 -74.065016        Dosa House\n",
       "2   635262  40.752903 -73.972764           Kushi Q\n",
       "3   936046  40.752021 -74.045370            C-Town\n",
       "4   587968  40.718743 -73.999507  Lunch Box Buffet"
      ]
     },
     "execution_count": 267,
     "metadata": {},
     "output_type": "execute_result"
    }
   ],
   "source": [
    "cql_stmt = \"\"\"\n",
    "    SELECT * from lbsn.venues limit 5;\n",
    "\"\"\"\n",
    "rows = session.execute(cql_stmt)\n",
    "df = pd.DataFrame(list(rows))\n",
    "df"
   ]
  },
  {
   "cell_type": "markdown",
   "metadata": {},
   "source": [
    "### Some queries"
   ]
  },
  {
   "cell_type": "code",
   "execution_count": 297,
   "metadata": {
    "collapsed": false
   },
   "outputs": [
    {
     "data": {
      "text/plain": [
       "25"
      ]
     },
     "execution_count": 297,
     "metadata": {},
     "output_type": "execute_result"
    }
   ],
   "source": [
    "# how many events for user 0?\n",
    "\n",
    "cql_stmt = \"\"\"\n",
    "    SELECT count(1) from lbsn.events where uid=0;\n",
    "\"\"\"\n",
    "rows = session.execute(cql_stmt)\n",
    "rows[0].count"
   ]
  },
  {
   "cell_type": "code",
   "execution_count": 310,
   "metadata": {
    "collapsed": false
   },
   "outputs": [
    {
     "data": {
      "text/html": [
       "<div>\n",
       "<table border=\"1\" class=\"dataframe\">\n",
       "  <thead>\n",
       "    <tr style=\"text-align: right;\">\n",
       "      <th></th>\n",
       "      <th>uid</th>\n",
       "      <th>ts</th>\n",
       "      <th>lat</th>\n",
       "      <th>lon</th>\n",
       "      <th>vid</th>\n",
       "    </tr>\n",
       "  </thead>\n",
       "  <tbody>\n",
       "    <tr>\n",
       "      <th>0</th>\n",
       "      <td>0</td>\n",
       "      <td>2010-10-12 00:21:28</td>\n",
       "      <td>40.643885</td>\n",
       "      <td>-73.782806</td>\n",
       "      <td>23261</td>\n",
       "    </tr>\n",
       "    <tr>\n",
       "      <th>1</th>\n",
       "      <td>0</td>\n",
       "      <td>2010-10-11 20:21:20</td>\n",
       "      <td>40.741374</td>\n",
       "      <td>-73.988105</td>\n",
       "      <td>16907</td>\n",
       "    </tr>\n",
       "    <tr>\n",
       "      <th>2</th>\n",
       "      <td>0</td>\n",
       "      <td>2010-10-11 20:20:42</td>\n",
       "      <td>40.741388</td>\n",
       "      <td>-73.989455</td>\n",
       "      <td>12973</td>\n",
       "    </tr>\n",
       "    <tr>\n",
       "      <th>3</th>\n",
       "      <td>0</td>\n",
       "      <td>2010-10-11 00:06:30</td>\n",
       "      <td>40.724910</td>\n",
       "      <td>-73.994621</td>\n",
       "      <td>341255</td>\n",
       "    </tr>\n",
       "    <tr>\n",
       "      <th>4</th>\n",
       "      <td>0</td>\n",
       "      <td>2010-10-10 22:00:37</td>\n",
       "      <td>40.729768</td>\n",
       "      <td>-73.998535</td>\n",
       "      <td>260957</td>\n",
       "    </tr>\n",
       "    <tr>\n",
       "      <th>5</th>\n",
       "      <td>0</td>\n",
       "      <td>2010-10-10 21:17:14</td>\n",
       "      <td>40.728527</td>\n",
       "      <td>-73.996868</td>\n",
       "      <td>1933724</td>\n",
       "    </tr>\n",
       "    <tr>\n",
       "      <th>6</th>\n",
       "      <td>0</td>\n",
       "      <td>2010-10-10 17:47:04</td>\n",
       "      <td>40.741747</td>\n",
       "      <td>-73.993421</td>\n",
       "      <td>105068</td>\n",
       "    </tr>\n",
       "    <tr>\n",
       "      <th>7</th>\n",
       "      <td>0</td>\n",
       "      <td>2010-10-09 23:51:10</td>\n",
       "      <td>40.734193</td>\n",
       "      <td>-74.004164</td>\n",
       "      <td>34817</td>\n",
       "    </tr>\n",
       "    <tr>\n",
       "      <th>8</th>\n",
       "      <td>0</td>\n",
       "      <td>2010-10-09 22:27:07</td>\n",
       "      <td>40.742512</td>\n",
       "      <td>-74.006031</td>\n",
       "      <td>27836</td>\n",
       "    </tr>\n",
       "    <tr>\n",
       "      <th>9</th>\n",
       "      <td>0</td>\n",
       "      <td>2010-10-09 21:39:26</td>\n",
       "      <td>40.742396</td>\n",
       "      <td>-74.007543</td>\n",
       "      <td>15079</td>\n",
       "    </tr>\n",
       "    <tr>\n",
       "      <th>10</th>\n",
       "      <td>0</td>\n",
       "      <td>2010-10-09 21:36:05</td>\n",
       "      <td>40.742396</td>\n",
       "      <td>-74.007543</td>\n",
       "      <td>15079</td>\n",
       "    </tr>\n",
       "    <tr>\n",
       "      <th>11</th>\n",
       "      <td>0</td>\n",
       "      <td>2010-10-09 21:05:23</td>\n",
       "      <td>40.735885</td>\n",
       "      <td>-74.004968</td>\n",
       "      <td>22806</td>\n",
       "    </tr>\n",
       "    <tr>\n",
       "      <th>12</th>\n",
       "      <td>0</td>\n",
       "      <td>2010-10-09 20:55:47</td>\n",
       "      <td>40.727525</td>\n",
       "      <td>-73.985399</td>\n",
       "      <td>1365909</td>\n",
       "    </tr>\n",
       "    <tr>\n",
       "      <th>13</th>\n",
       "      <td>0</td>\n",
       "      <td>2010-10-09 01:37:03</td>\n",
       "      <td>40.756880</td>\n",
       "      <td>-73.986225</td>\n",
       "      <td>11844</td>\n",
       "    </tr>\n",
       "    <tr>\n",
       "      <th>14</th>\n",
       "      <td>0</td>\n",
       "      <td>2010-10-08 21:48:37</td>\n",
       "      <td>40.707417</td>\n",
       "      <td>-74.011363</td>\n",
       "      <td>11742</td>\n",
       "    </tr>\n",
       "    <tr>\n",
       "      <th>15</th>\n",
       "      <td>0</td>\n",
       "      <td>2010-10-08 21:45:48</td>\n",
       "      <td>40.707173</td>\n",
       "      <td>-74.010545</td>\n",
       "      <td>19822</td>\n",
       "    </tr>\n",
       "    <tr>\n",
       "      <th>16</th>\n",
       "      <td>0</td>\n",
       "      <td>2010-10-08 21:43:52</td>\n",
       "      <td>40.707071</td>\n",
       "      <td>-74.011953</td>\n",
       "      <td>15169</td>\n",
       "    </tr>\n",
       "    <tr>\n",
       "      <th>17</th>\n",
       "      <td>0</td>\n",
       "      <td>2010-10-08 19:28:36</td>\n",
       "      <td>40.769378</td>\n",
       "      <td>-73.963083</td>\n",
       "      <td>1567837</td>\n",
       "    </tr>\n",
       "    <tr>\n",
       "      <th>18</th>\n",
       "      <td>0</td>\n",
       "      <td>2010-10-08 00:07:48</td>\n",
       "      <td>40.731724</td>\n",
       "      <td>-74.003338</td>\n",
       "      <td>87914</td>\n",
       "    </tr>\n",
       "    <tr>\n",
       "      <th>19</th>\n",
       "      <td>0</td>\n",
       "      <td>2010-10-07 23:18:10</td>\n",
       "      <td>40.730869</td>\n",
       "      <td>-73.997566</td>\n",
       "      <td>16397</td>\n",
       "    </tr>\n",
       "    <tr>\n",
       "      <th>20</th>\n",
       "      <td>0</td>\n",
       "      <td>2010-10-07 21:58:31</td>\n",
       "      <td>40.742201</td>\n",
       "      <td>-73.987995</td>\n",
       "      <td>17710</td>\n",
       "    </tr>\n",
       "    <tr>\n",
       "      <th>21</th>\n",
       "      <td>0</td>\n",
       "      <td>2010-10-07 21:02:01</td>\n",
       "      <td>40.745810</td>\n",
       "      <td>-73.988221</td>\n",
       "      <td>60450</td>\n",
       "    </tr>\n",
       "    <tr>\n",
       "      <th>22</th>\n",
       "      <td>0</td>\n",
       "      <td>2010-10-07 20:31:48</td>\n",
       "      <td>40.748444</td>\n",
       "      <td>-73.985732</td>\n",
       "      <td>12313</td>\n",
       "    </tr>\n",
       "    <tr>\n",
       "      <th>23</th>\n",
       "      <td>0</td>\n",
       "      <td>2010-10-07 20:14:44</td>\n",
       "      <td>40.751508</td>\n",
       "      <td>-73.975500</td>\n",
       "      <td>34484</td>\n",
       "    </tr>\n",
       "    <tr>\n",
       "      <th>24</th>\n",
       "      <td>0</td>\n",
       "      <td>2010-10-07 15:27:40</td>\n",
       "      <td>40.643885</td>\n",
       "      <td>-73.782806</td>\n",
       "      <td>23261</td>\n",
       "    </tr>\n",
       "  </tbody>\n",
       "</table>\n",
       "</div>"
      ],
      "text/plain": [
       "    uid                  ts        lat        lon      vid\n",
       "0     0 2010-10-12 00:21:28  40.643885 -73.782806    23261\n",
       "1     0 2010-10-11 20:21:20  40.741374 -73.988105    16907\n",
       "2     0 2010-10-11 20:20:42  40.741388 -73.989455    12973\n",
       "3     0 2010-10-11 00:06:30  40.724910 -73.994621   341255\n",
       "4     0 2010-10-10 22:00:37  40.729768 -73.998535   260957\n",
       "5     0 2010-10-10 21:17:14  40.728527 -73.996868  1933724\n",
       "6     0 2010-10-10 17:47:04  40.741747 -73.993421   105068\n",
       "7     0 2010-10-09 23:51:10  40.734193 -74.004164    34817\n",
       "8     0 2010-10-09 22:27:07  40.742512 -74.006031    27836\n",
       "9     0 2010-10-09 21:39:26  40.742396 -74.007543    15079\n",
       "10    0 2010-10-09 21:36:05  40.742396 -74.007543    15079\n",
       "11    0 2010-10-09 21:05:23  40.735885 -74.004968    22806\n",
       "12    0 2010-10-09 20:55:47  40.727525 -73.985399  1365909\n",
       "13    0 2010-10-09 01:37:03  40.756880 -73.986225    11844\n",
       "14    0 2010-10-08 21:48:37  40.707417 -74.011363    11742\n",
       "15    0 2010-10-08 21:45:48  40.707173 -74.010545    19822\n",
       "16    0 2010-10-08 21:43:52  40.707071 -74.011953    15169\n",
       "17    0 2010-10-08 19:28:36  40.769378 -73.963083  1567837\n",
       "18    0 2010-10-08 00:07:48  40.731724 -74.003338    87914\n",
       "19    0 2010-10-07 23:18:10  40.730869 -73.997566    16397\n",
       "20    0 2010-10-07 21:58:31  40.742201 -73.987995    17710\n",
       "21    0 2010-10-07 21:02:01  40.745810 -73.988221    60450\n",
       "22    0 2010-10-07 20:31:48  40.748444 -73.985732    12313\n",
       "23    0 2010-10-07 20:14:44  40.751508 -73.975500    34484\n",
       "24    0 2010-10-07 15:27:40  40.643885 -73.782806    23261"
      ]
     },
     "execution_count": 310,
     "metadata": {},
     "output_type": "execute_result"
    }
   ],
   "source": [
    "# how many events for user 0?\n",
    "\n",
    "cql_stmt = \"\"\"\n",
    "    SELECT * from lbsn.events where uid=0 limit ;\n",
    "\"\"\"\n",
    "rows = session.execute(cql_stmt)\n",
    "pd.DataFrame(list(rows))"
   ]
  },
  {
   "cell_type": "code",
   "execution_count": 311,
   "metadata": {
    "collapsed": false
   },
   "outputs": [
    {
     "data": {
      "text/plain": [
       "6"
      ]
     },
     "execution_count": 311,
     "metadata": {},
     "output_type": "execute_result"
    }
   ],
   "source": [
    "# how many events for user 0 during Oct 8, 2010, UTC time?\n",
    "\n",
    "cql_stmt = \"\"\"\n",
    "    SELECT count(1) from lbsn.events where uid=0 and ts>='2010-10-08 00:00:00' and ts<'2010-10-09 00:00:00';\n",
    "\"\"\"\n",
    "rows = session.execute(cql_stmt)\n",
    "rows[0].count"
   ]
  },
  {
   "cell_type": "code",
   "execution_count": 312,
   "metadata": {
    "collapsed": false
   },
   "outputs": [
    {
     "data": {
      "text/plain": [
       "149"
      ]
     },
     "execution_count": 312,
     "metadata": {},
     "output_type": "execute_result"
    }
   ],
   "source": [
    "#how many users is user 0 following?\n",
    "\n",
    "cql_stmt = \"\"\"\n",
    "    SELECT count(1) from lbsn.users where uid=0;\n",
    "\"\"\"\n",
    "rows = session.execute(cql_stmt)\n",
    "rows[0].count"
   ]
  },
  {
   "cell_type": "code",
   "execution_count": 316,
   "metadata": {
    "collapsed": false
   },
   "outputs": [
    {
     "data": {
      "text/plain": [
       "True"
      ]
     },
     "execution_count": 316,
     "metadata": {},
     "output_type": "execute_result"
    }
   ],
   "source": [
    "# is user 0 following user 44?\n",
    "cql_stmt = \"\"\"\n",
    "    SELECT count(1) from lbsn.users where uid=0 and fid=44;\n",
    "\"\"\"\n",
    "rows = session.execute(cql_stmt)\n",
    "rows[0].count>0"
   ]
  },
  {
   "cell_type": "code",
   "execution_count": 317,
   "metadata": {
    "collapsed": false
   },
   "outputs": [
    {
     "data": {
      "text/plain": [
       "True"
      ]
     },
     "execution_count": 317,
     "metadata": {},
     "output_type": "execute_result"
    }
   ],
   "source": [
    "# is user 44 following user 0?\n",
    "cql_stmt = \"\"\"\n",
    "    SELECT count(1) from lbsn.users where uid=0 and fid=44;\n",
    "\"\"\"\n",
    "rows = session.execute(cql_stmt)\n",
    "rows[0].count>0"
   ]
  },
  {
   "cell_type": "code",
   "execution_count": 319,
   "metadata": {
    "collapsed": false
   },
   "outputs": [
    {
     "data": {
      "text/plain": [
       "[23261, 40.6438845363, -73.78280639649999, 'JFK John F. Kennedy International']"
      ]
     },
     "execution_count": 319,
     "metadata": {},
     "output_type": "execute_result"
    }
   ],
   "source": [
    "# get the details of venue 23261\n",
    "cql_stmt = \"\"\"\n",
    "    SELECT * from lbsn.venues where vid=23261;\n",
    "\"\"\"\n",
    "rows = session.execute(cql_stmt)\n",
    "list(rows[0])"
   ]
  },
  {
   "cell_type": "code",
   "execution_count": 352,
   "metadata": {
    "collapsed": false
   },
   "outputs": [
    {
     "data": {
      "text/plain": [
       "['New York Stock Exchange',\n",
       " 'Times Square',\n",
       " 'Empire State Building',\n",
       " 'Flatiron Building ',\n",
       " 'The High Line',\n",
       " 'Trinity Church',\n",
       " 'Washington Square Park ',\n",
       " 'Shake Shack',\n",
       " 'Madison Square Park',\n",
       " 'Federal Hall National Memorial',\n",
       " 'Magnolia Bakery, Downtown',\n",
       " 'JFK John F. Kennedy International',\n",
       " 'The Chelsea Market',\n",
       " 'Chrysler Building',\n",
       " 'Westville',\n",
       " 'Ace Hotel',\n",
       " \"John's of Bleecker Street\",\n",
       " 'Market',\n",
       " 'The Half Pint',\n",
       " \"Emilio's Ballato Restaurant\",\n",
       " 'Van Leeuwen Artisan Ice Cream',\n",
       " 'Sicaffe',\n",
       " 'New York University (NYU)']"
      ]
     },
     "execution_count": 352,
     "metadata": {},
     "output_type": "execute_result"
    }
   ],
   "source": [
    "# simple join for small collections\n",
    "# which venues visited by user 0?\n",
    "\n",
    "cql_stmt = \"\"\"\n",
    "    SELECT vid from lbsn.events where uid=0;\n",
    "\"\"\"\n",
    "rows = session.execute(cql_stmt)\n",
    "venues = set([x.vid for x in list(rows)])\n",
    "\n",
    "cql_stmt = \"\"\"\n",
    "    SELECT name from lbsn.venues where vid in ({});\n",
    "\"\"\".format(str(venues)[1:-1])\n",
    "rows = session.execute(cql_stmt)\n",
    "[x.name for x in list(rows)]"
   ]
  },
  {
   "cell_type": "markdown",
   "metadata": {},
   "source": [
    "### More analytics and data exploration"
   ]
  },
  {
   "cell_type": "markdown",
   "metadata": {},
   "source": [
    "- secondary indexes\n",
    "- views\n",
    "- set, lists, and user defined types (UDTs)\n",
    "- build help tables\n",
    "\n",
    "\n",
    "- advanced analytics in spark, via the spark cassandra connector (apache license)\n",
    "- full text indexing and search with elasticsearch: elassandra (apache license)\n",
    "- full text indexing with cassandra enterprise (commercial license)\n"
   ]
  },
  {
   "cell_type": "code",
   "execution_count": null,
   "metadata": {
    "collapsed": true
   },
   "outputs": [],
   "source": []
  }
 ],
 "metadata": {
  "kernelspec": {
   "display_name": "Python 3",
   "language": "python",
   "name": "python3"
  },
  "language_info": {
   "codemirror_mode": {
    "name": "ipython",
    "version": 3
   },
   "file_extension": ".py",
   "mimetype": "text/x-python",
   "name": "python",
   "nbconvert_exporter": "python",
   "pygments_lexer": "ipython3",
   "version": "3.5.1"
  }
 },
 "nbformat": 4,
 "nbformat_minor": 0
}
