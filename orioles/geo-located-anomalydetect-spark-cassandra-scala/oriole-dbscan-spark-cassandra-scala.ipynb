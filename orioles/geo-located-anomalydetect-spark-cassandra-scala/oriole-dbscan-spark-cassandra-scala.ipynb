{
 "cells": [
  {
   "cell_type": "markdown",
   "metadata": {},
   "source": [
    "## Anomaly detection and pattern extraction with Spark, Cassandra and Scala\n",
    "\n",
    "Today, geo-located data is available in a number of domains, ranging from healthcare to financial markets, to social services. In all these domains, extracting patterns and detecting anomalies and novelties from data has very concrete business outcomes. \n",
    "\n",
    "Anomaly detection can be defined as the process of finding which samples in the given dataset do not follow the given patterns and behave as though they were produced by a different mechanism. From detection follows action. Depending on the domain and the use case, we define them as anomalies or novelties and these signals are the triggers for applications such as personalized marketing and fraud alerting and notification.\n",
    "\n",
    "As more data gets ingested/produced via digital services, it’s key to perform this sort of analytics at scale. In the open source space, technologies such as Spark and Cassandra are definitely instrumental to implement and execute modern data pipelines at scale.\n",
    "\n",
    "This Oriole is divided in two parts: Firstly, I will show how to collect data from Cassandra and bring it up to Spark for further analysis. In the second part of this Oriole, I will explore a number of techniques for detecting anomalies based on three different techniques:\n",
    "\n",
    "  - Statistics and Histograms\n",
    "  - Process Mining and Graph Analytics\n",
    "  - Clustering for Geo-Located Data with DBSCAN\n",
    "\n",
    "For this analysis, we are going to use the Gowalla Dataset [1]. The Gowalla dataset consists of a table of events, registered by anonymized users. Each event registers a user checking into a geolocated venue at a specific timestamp. The dataset is available at https://snap.stanford.edu/data/loc-gowalla.html\n",
    "\n",
    "[1] E. Cho, S. A. Myers, J. Leskovec. Friendship and Mobility: Friendship and Mobility: User Movement in Location-Based Social Networks ACM SIGKDD International Conference on Knowledge Discovery and Data Mining (KDD), 2011.\n",
    "\n"
   ]
  },
  {
   "cell_type": "markdown",
   "metadata": {},
   "source": [
    "#### Setup\n",
    "\n",
    "This notebook is running scala code and interfaces to a Spark cluster using the [Apache Toree](https://toree.incubator.apache.org/) project. Furthermore, Spark reads the data from Cassandra tables. Spark interfaces to Cassandra via the [Cassandra-Spark connector](https://github.com/datastax/spark-cassandra-connector). \n",
    "\n",
    "At the time of compiling this notebook, Spark 1.6.1 and Cassandra 3.5 were used. Here below the command to install the Spark - Scala Kernel on Jupiter. More instructions on this topic are available on Apache Toree [website](https://toree.incubator.apache.org/) and [github pages](https://github.com/apache/incubator-toree).\n",
    "\n",
    "```\n",
    "sudo jupyter-toree install --spark_home=${SPARK_HOME} \n",
    "--spark_opts='--packages com.datastax.spark:spark-cassandra\n",
    "-connector_2.10:1.6.0,graphframes:graphframes:0.1.0-spark1.6 \n",
    "--conf spark.cassandra.connection.host=localhost --conf \n",
    "spark.executor.memory=1g --conf spark.driver.memory=1g'\n",
    "```"
   ]
  },
  {
   "cell_type": "code",
   "execution_count": 1,
   "metadata": {
    "collapsed": false
   },
   "outputs": [
    {
     "data": {
      "text/plain": [
       "1.6.1"
      ]
     },
     "execution_count": 1,
     "metadata": {},
     "output_type": "execute_result"
    }
   ],
   "source": [
    "// Scala version\n",
    "sc.version"
   ]
  },
  {
   "cell_type": "markdown",
   "metadata": {},
   "source": [
    "### Connecting to Cassandra"
   ]
  },
  {
   "cell_type": "code",
   "execution_count": 2,
   "metadata": {
    "collapsed": false
   },
   "outputs": [],
   "source": [
    "//sql context\n",
    "import org.apache.spark.sql.SQLContext\n",
    "import org.apache.spark.sql.functions._\n",
    "\n",
    "val sqlContext  = new SQLContext(sc)\n",
    "import sqlContext.implicits._"
   ]
  },
  {
   "cell_type": "code",
   "execution_count": 3,
   "metadata": {
    "collapsed": false
   },
   "outputs": [],
   "source": [
    "// spark-cassandra connector\n",
    "import com.datastax.spark.connector._\n",
    "import com.datastax.spark.connector.cql._\n",
    "\n",
    "import org.apache.spark.sql.cassandra.CassandraSQLContext\n",
    "val cc = new CassandraSQLContext(sc)"
   ]
  },
  {
   "cell_type": "markdown",
   "metadata": {},
   "source": [
    "#### SQL queries in Cassandra\n",
    "\n",
    "Cassandra is exposed via a SQL context, so there is not need to learn a separate syntax as Spark will map the query to the available features of the underlying storage system. See below a simple query accessing the name and the id of venues from a cassandra table. Also remember that sql statements are _staged_ but not _executed_ until some actual [actions](http://spark.apache.org/docs/latest/programming-guide.html#actions) needs to be computed. Examples of actions are for instance, **count**(), **first**(), **collect**()."
   ]
  },
  {
   "cell_type": "code",
   "execution_count": 49,
   "metadata": {
    "collapsed": false
   },
   "outputs": [],
   "source": [
    "val venues   = cc.sql(\"select vid, name from lbsn.venues\").as(\"venues\")"
   ]
  },
  {
   "cell_type": "code",
   "execution_count": 50,
   "metadata": {
    "collapsed": false
   },
   "outputs": [
    {
     "data": {
      "text/plain": [
       "17291"
      ]
     },
     "execution_count": 50,
     "metadata": {},
     "output_type": "execute_result"
    }
   ],
   "source": [
    "venues.count()"
   ]
  },
  {
   "cell_type": "markdown",
   "metadata": {},
   "source": [
    "Sometimes you cannot push to cassandra the full query, as the full query cannot be mapped on the available database functions supported on that specific data store. For instance, Cassandra cannot easily execute joins. In this case, Spark will partition and plan the query _pushing down_ what can be done in Cassandra and perform in Spark the rest of the query. \n",
    "\n",
    "More information can be found on Cassandra Documentation about [using Spark SQL to query data](http://docs.datastax.com/en/datastax_enterprise/5.0/datastax_enterprise/spark/sparkSqlOverview.html) or on the [Cassandra Spark Connector](https://github.com/datastax/spark-cassandra-connector) pages.\n",
    "\n",
    "For example, the following query filters out only those events which were registered in the New York area. As filtering in cassandra cannot by done on columns which are not indexes, this specific query will first move the data form Cassandra to Spark, and then will perform the filtering in Spark. In general, it's a good practice to push down and filter as much data as early as possible. This practice keeps the throughput low and minimize the data transfered from one system to the other."
   ]
  },
  {
   "cell_type": "code",
   "execution_count": 95,
   "metadata": {
    "collapsed": false
   },
   "outputs": [],
   "source": [
    "val events   = cc.sql(\"\"\"select ts, uid, lat, lon, vid from lbsn.events where\n",
    "                            lon>-74.2589 and lon<-73.7004 and \n",
    "                            lat> 40.4774 and lat< 40.9176\n",
    "                      \"\"\").as(\"events\").orderBy(\"uid\", \"ts\").repartition(8, $\"uid\").cache()"
   ]
  },
  {
   "cell_type": "code",
   "execution_count": 94,
   "metadata": {
    "collapsed": false
   },
   "outputs": [
    {
     "data": {
      "text/plain": [
       "112383"
      ]
     },
     "execution_count": 94,
     "metadata": {},
     "output_type": "execute_result"
    }
   ],
   "source": [
    "events.count()"
   ]
  },
  {
   "cell_type": "code",
   "execution_count": 53,
   "metadata": {
    "collapsed": false
   },
   "outputs": [
    {
     "data": {
      "text/plain": [
       "[2010-09-24 06:41:01.0,110775,40.7745781069,-73.8720059395,12505]"
      ]
     },
     "execution_count": 53,
     "metadata": {},
     "output_type": "execute_result"
    }
   ],
   "source": [
    "events.first()"
   ]
  },
  {
   "cell_type": "markdown",
   "metadata": {},
   "source": [
    "Before diving into anomaly detection of geo-located data, let's perform some more basic queries. Herebelow, it is shown how to count events registered by user uid=0, and how to retrieve the name of venue id 12525. Finally, the third query prints out the first five rows of the venue table, in no particular order."
   ]
  },
  {
   "cell_type": "code",
   "execution_count": 54,
   "metadata": {
    "collapsed": false
   },
   "outputs": [
    {
     "data": {
      "text/plain": [
       "25"
      ]
     },
     "execution_count": 54,
     "metadata": {},
     "output_type": "execute_result"
    }
   ],
   "source": [
    "// User 0: how many checkins?\n",
    "events.where(\"uid=0\").count()"
   ]
  },
  {
   "cell_type": "code",
   "execution_count": 55,
   "metadata": {
    "collapsed": false
   },
   "outputs": [
    {
     "data": {
      "text/plain": [
       "[12525,The Museum of Modern Art (MoMA)]"
      ]
     },
     "execution_count": 55,
     "metadata": {},
     "output_type": "execute_result"
    }
   ],
   "source": [
    "venues.where(\"vid = 12525\").first()"
   ]
  },
  {
   "cell_type": "markdown",
   "metadata": {},
   "source": [
    "#### Joining Cassandra tables in Spark.\n",
    "\n",
    "One of the advantages of connecting Cassandra and Spark, is the fact that you can now merge and join Cassandra tables."
   ]
  },
  {
   "cell_type": "code",
   "execution_count": 56,
   "metadata": {
    "collapsed": false
   },
   "outputs": [
    {
     "name": "stdout",
     "output_type": "stream",
     "text": [
      "+---------------------+---+------------------+------------------+------+---------------------------------+\n",
      "|ts                   |uid|lat               |lon               |vid   |name                             |\n",
      "+---------------------+---+------------------+------------------+------+---------------------------------+\n",
      "|2010-10-11 16:21:28.0|0  |40.6438845363     |-73.78280639649999|23261 |JFK John F. Kennedy International|\n",
      "|2010-10-11 12:21:20.0|0  |40.74137425       |-73.9881052167    |16907 |Shake Shack                      |\n",
      "|2010-10-11 12:20:42.0|0  |40.741388197      |-73.98945450779999|12973 |Flatiron Building                |\n",
      "|2010-10-10 16:06:30.0|0  |40.724910334499995|-73.9946207517    |341255|Emilio's Ballato Restaurant      |\n",
      "|2010-10-10 14:00:37.0|0  |40.729768314      |-73.9985353275    |260957|The Half Pint                    |\n",
      "+---------------------+---+------------------+------------------+------+---------------------------------+\n",
      "only showing top 5 rows\n",
      "\n"
     ]
    }
   ],
   "source": [
    "val df_ny = events.\n",
    "  join(venues, events(\"events.vid\") === venues(\"venues.vid\"), \"inner\").\n",
    "  select(\"ts\", \"uid\", \"lat\", \"lon\", \"events.vid\",\"venues.name\")\n",
    "\n",
    "df_ny.filter($\"uid\"===0).show(5,false)"
   ]
  },
  {
   "cell_type": "markdown",
   "metadata": {},
   "source": [
    "The spark table joined above is going to be the starting point for our anomaly analysis.    \n",
    "Each row records the event's timestamp, the user id, the geo-location (latitude and longitude) of venue and finally the venue id and name."
   ]
  },
  {
   "cell_type": "markdown",
   "metadata": {},
   "source": [
    "#### Executing SQL statements as code.\n",
    "\n",
    "Spark dataframes can also be filtered and transformed programmatically via a number of [pre-defined functions](https://spark.apache.org/docs/1.6.1/api/scala/#org.apache.spark.sql.functions$), such as min, sum, stddev, and many more. Some of those are shown in the next code sections. \n",
    "\n",
    "Next to the default set of pre-defined dataframe and column functions, it is possible to define the user-defined-functions (udf's). In the code below, we will create two UDF's to transform the timestamp to the day of the week and the hour of the day values, computed according to a given local timezone."
   ]
  },
  {
   "cell_type": "code",
   "execution_count": 57,
   "metadata": {
    "collapsed": false
   },
   "outputs": [],
   "source": [
    "// UDF functions for SQL-like operations on columns\n",
    "import org.joda.time.DateTime\n",
    "import org.joda.time.DateTimeZone\n",
    "\n",
    "import java.sql.Timestamp\n",
    "import org.apache.spark.sql.functions.udf\n",
    "\n",
    "val  dayofweek = udf( (ts: Timestamp, tz: String) => {\n",
    "  val dt = new DateTime(ts,DateTimeZone.forID(tz))\n",
    "  // sunday starts at 0\n",
    "  dt.getDayOfWeek() - 1\n",
    "})\n",
    "\n",
    "val  localhour = udf( (ts: Timestamp, tz: String) => {\n",
    "  val dt = new DateTime(ts,DateTimeZone.forID(tz))\n",
    "  dt.getHourOfDay()\n",
    "})"
   ]
  },
  {
   "cell_type": "code",
   "execution_count": 58,
   "metadata": {
    "collapsed": false
   },
   "outputs": [
    {
     "name": "stdout",
     "output_type": "stream",
     "text": [
      "+---------------------+------+------------------+--------------+-------+---------------------+---+----+\n",
      "|ts                   |uid   |lat               |lon           |vid    |name                 |dow|hour|\n",
      "+---------------------+------+------------------+--------------+-------+---------------------+---+----+\n",
      "|2010-09-24 06:41:01.0|110775|40.7745781069     |-73.8720059395|12505  |LGA LaGuardia Airport|4  |2   |\n",
      "|2010-09-22 16:27:24.0|110775|40.7288199592     |-74.0019902199|521470 |Mermaid Oyster Bar   |2  |12  |\n",
      "|2010-09-21 05:01:29.0|110775|40.705070443000004|-74.011467788 |3361070|Wall Street          |1  |1   |\n",
      "|2010-09-21 05:00:35.0|110775|40.7050351565     |-74.0109678168|301297 |Starbucks Coffee     |1  |1   |\n",
      "|2010-09-20 04:41:49.0|110775|40.705070443000004|-74.011467788 |3361070|Wall Street          |0  |0   |\n",
      "+---------------------+------+------------------+--------------+-------+---------------------+---+----+\n",
      "only showing top 5 rows\n",
      "\n"
     ]
    }
   ],
   "source": [
    "val newyork_tz = \"America/New_York\"\n",
    "\n",
    "val df = df_ny.\n",
    "  withColumn(\"dow\",  dayofweek($\"ts\", lit(newyork_tz))).\n",
    "  withColumn(\"hour\", localhour($\"ts\", lit(newyork_tz))).\n",
    "  as(\"events\")\n",
    "  \n",
    "df.show(5, false)\n"
   ]
  },
  {
   "cell_type": "markdown",
   "metadata": {},
   "source": [
    "## Anomaly Detection\n",
    "\n",
    "### Histogram based\n",
    "#### Basic statistics in Spark\n",
    "\n",
    "The following code section shows how to collect global statistics and histograms per hour of the day and per day of the week. Histograms can be made more specific by aggregating the events according to a number of factors, such as:\n",
    "\n",
    " - venue\n",
    " - geographical area\n",
    " - popular users\n",
    " - 1st, 2nd friend's circle\n",
    " \n",
    "If you are interested, in multiple slicing and dicing option, Spark as a [cube function](https://spark.apache.org/docs/1.5.1/api/scala/index.html#org.apache.spark.sql.DataFrame) as well.  \n",
    "To start, let's compute the histogram, accumulating all events and aggregating by hour of the day and by day of the week.  \n"
   ]
  },
  {
   "cell_type": "code",
   "execution_count": 59,
   "metadata": {
    "collapsed": false
   },
   "outputs": [
    {
     "name": "stdout",
     "output_type": "stream",
     "text": [
      "+---+-----+\n",
      "|dow|count|\n",
      "+---+-----+\n",
      "|  0|14751|\n",
      "|  1|15341|\n",
      "|  2|15705|\n",
      "|  3|16324|\n",
      "|  4|16868|\n",
      "|  5|17916|\n",
      "|  6|15478|\n",
      "+---+-----+\n",
      "\n"
     ]
    }
   ],
   "source": [
    "// histogram day of the week events\n",
    "df.groupBy($\"dow\").count().show()"
   ]
  },
  {
   "cell_type": "code",
   "execution_count": 60,
   "metadata": {
    "collapsed": false
   },
   "outputs": [
    {
     "name": "stdout",
     "output_type": "stream",
     "text": [
      "+----+-----+\n",
      "|hour|count|\n",
      "+----+-----+\n",
      "|0   |3927 |\n",
      "|1   |4953 |\n",
      "|2   |5411 |\n",
      "|3   |6047 |\n",
      "|4   |7362 |\n",
      "|5   |8102 |\n",
      "|6   |7668 |\n",
      "|7   |7341 |\n",
      "|8   |7831 |\n",
      "|9   |7628 |\n",
      "|10  |8308 |\n",
      "|11  |8614 |\n",
      "|12  |6669 |\n",
      "|13  |5525 |\n",
      "|14  |4452 |\n",
      "|15  |2835 |\n",
      "|16  |2200 |\n",
      "|17  |1128 |\n",
      "|18  |694  |\n",
      "|19  |536  |\n",
      "|20  |390  |\n",
      "|21  |843  |\n",
      "|22  |1398 |\n",
      "|23  |2521 |\n",
      "+----+-----+\n",
      "\n"
     ]
    }
   ],
   "source": [
    "// histogram hour of the day events\n",
    "df.groupBy($\"hour\").count().show(24,false)"
   ]
  },
  {
   "cell_type": "markdown",
   "metadata": {},
   "source": [
    "#### Statistics in Spark: venue-specific histograms\n",
    "\n",
    "Moving on, let's have a look on how to create an specific histogram for each venue.   \n",
    "In this case, we will store the histogram as a vector. First, let's convert the day-of-the-week to a vector."
   ]
  },
  {
   "cell_type": "code",
   "execution_count": 61,
   "metadata": {
    "collapsed": true
   },
   "outputs": [],
   "source": [
    "import breeze.linalg._\n",
    "import breeze.linalg.DenseVector\n",
    "\n",
    "import org.apache.spark.mllib.linalg.{Vector,Vectors}\n",
    "\n",
    "def r(x: Double, d:Int) = { \n",
    "    import scala.math.{pow, round}\n",
    "    val p = pow(10,d); round(x*p)/p \n",
    "}"
   ]
  },
  {
   "cell_type": "code",
   "execution_count": 62,
   "metadata": {
    "collapsed": false
   },
   "outputs": [],
   "source": [
    "// vector histogram: the RDD way\n",
    "\n",
    "def toVector(i: Int, length:Int) = {\n",
    "  DenseVector((0 to length-1).map(x => if (x == i) 1.0 else 0.0).toArray)\n",
    "}"
   ]
  },
  {
   "cell_type": "code",
   "execution_count": 63,
   "metadata": {
    "collapsed": false
   },
   "outputs": [
    {
     "data": {
      "text/plain": [
       "(12505,DenseVector(0.0, 0.0, 0.0, 0.0, 1.0, 0.0, 0.0))"
      ]
     },
     "execution_count": 63,
     "metadata": {},
     "output_type": "execute_result"
    }
   ],
   "source": [
    "df.select($\"vid\", $\"dow\").map(r => (r.getLong(0),toVector(r.getInt(1), 7))).first()"
   ]
  },
  {
   "cell_type": "markdown",
   "metadata": {},
   "source": [
    "#### Pair RDDs: reduce by Key\n",
    "\n",
    "We will now **reduceByKey** those weekly and daily vectors by applying vectors arithmetics. In this way, we can collect the probability of an event happening at a specific day of the week for each venue in the dataset. This is a much more detailed analysis since different venues, such as restaurants, musea and train stations have different daily and weekly histogram patterns."
   ]
  },
  {
   "cell_type": "code",
   "execution_count": 64,
   "metadata": {
    "collapsed": false
   },
   "outputs": [],
   "source": [
    "val dow_hist = df.\n",
    "  select($\"vid\", $\"dow\").\n",
    "  map(r => (r.getLong(0),toVector(r.getInt(1), 7))).\n",
    "  reduceByKey(_ + _).\n",
    "  mapValues(x => Vectors.dense((x / sum(x)).toArray.map(r(_,2)))).\n",
    "  toDF(\"vid\", \"dow_hist\")\n",
    "\n",
    "  "
   ]
  },
  {
   "cell_type": "code",
   "execution_count": 65,
   "metadata": {
    "collapsed": false,
    "scrolled": true
   },
   "outputs": [
    {
     "name": "stdout",
     "output_type": "stream",
     "text": [
      "+------+-------------------------------+\n",
      "|vid   |dow_hist                       |\n",
      "+------+-------------------------------+\n",
      "|513544|[0.67,0.0,0.0,0.0,0.0,0.33,0.0]|\n",
      "|932648|[0.25,0.0,0.0,0.5,0.0,0.0,0.25]|\n",
      "|178464|[0.0,0.0,0.0,0.0,1.0,0.0,0.0]  |\n",
      "+------+-------------------------------+\n",
      "only showing top 3 rows\n",
      "\n"
     ]
    }
   ],
   "source": [
    "dow_hist.show(3, false)"
   ]
  },
  {
   "cell_type": "markdown",
   "metadata": {},
   "source": [
    "#### Scoring events according to venues histograms"
   ]
  },
  {
   "cell_type": "code",
   "execution_count": 66,
   "metadata": {
    "collapsed": false
   },
   "outputs": [
    {
     "name": "stdout",
     "output_type": "stream",
     "text": [
      "\r",
      "                                                                                \r",
      "+---------------------+------+------------+------------+-----+---+-----------------------------------+\n",
      "|ts                   |uid   |round(lat,4)|round(lon,4)|vid  |dow|dow_hist                           |\n",
      "+---------------------+------+------------+------------+-----+---+-----------------------------------+\n",
      "|2009-10-19 08:48:08.0|24951 |40.7491     |-73.968     |11831|0  |[0.1,0.14,0.21,0.16,0.11,0.16,0.13]|\n",
      "|2010-08-13 22:28:29.0|125327|40.7491     |-73.968     |11831|4  |[0.1,0.14,0.21,0.16,0.11,0.16,0.13]|\n",
      "|2010-10-09 06:00:59.0|111   |40.7491     |-73.968     |11831|5  |[0.1,0.14,0.21,0.16,0.11,0.16,0.13]|\n",
      "|2010-03-10 10:50:05.0|49440 |40.7491     |-73.968     |11831|2  |[0.1,0.14,0.21,0.16,0.11,0.16,0.13]|\n",
      "|2009-12-17 10:00:45.0|157344|40.7491     |-73.968     |11831|3  |[0.1,0.14,0.21,0.16,0.11,0.16,0.13]|\n",
      "+---------------------+------+------------+------------+-----+---+-----------------------------------+\n",
      "only showing top 5 rows\n",
      "\n"
     ]
    }
   ],
   "source": [
    "val df_probs = df.\n",
    "  join(dow_hist, df(\"vid\") === dow_hist(\"vid\"), \"inner\").\n",
    "  select($\"ts\", $\"uid\", round($\"lat\",4), round($\"lon\",4), $\"events.vid\", $\"dow\", $\"dow_hist\")\n",
    "\n",
    "df_probs.show(5,false)"
   ]
  },
  {
   "cell_type": "markdown",
   "metadata": {},
   "source": [
    "#### Histogram based anomaly detection\n",
    "We will now score the probability of a given event based on the histograms we have just computed here above. For that, we are going to craft a new UDF which will select a given element of a vector based on the value provided by a different column. "
   ]
  },
  {
   "cell_type": "code",
   "execution_count": 67,
   "metadata": {
    "collapsed": false
   },
   "outputs": [
    {
     "name": "stdout",
     "output_type": "stream",
     "text": [
      "\r",
      "                                                                                \r",
      "+---------------------+------+-----+---+--------+\n",
      "|ts                   |uid   |vid  |dow|dow_prob|\n",
      "+---------------------+------+-----+---+--------+\n",
      "|2009-10-19 08:48:08.0|24951 |11831|0  |0.1     |\n",
      "|2010-08-13 22:28:29.0|125327|11831|4  |0.11    |\n",
      "|2010-10-09 06:00:59.0|111   |11831|5  |0.16    |\n",
      "+---------------------+------+-----+---+--------+\n",
      "only showing top 3 rows\n",
      "\n"
     ]
    }
   ],
   "source": [
    "val  nth = udf( (i:Int, arr: Vector) => {\n",
    "  arr.toArray.lift(i).getOrElse(0.0)\n",
    "})\n",
    "\n",
    "df_probs.select($\"ts\", $\"uid\", $\"vid\", $\"dow\", nth($\"dow\", $\"dow_hist\").as(\"dow_prob\")).show(3,false)"
   ]
  },
  {
   "cell_type": "markdown",
   "metadata": {},
   "source": [
    "#### Histograms for anomaly detection: putting it all together\n",
    "\n",
    "Let's repeat the same exercise for the histograms binned by hour of the day. And finally, let's merge and compute the probability of each given event, given the venue, the hour of the day, and the day of the week. Events with lower probabilities are less likely to happen."
   ]
  },
  {
   "cell_type": "code",
   "execution_count": 68,
   "metadata": {
    "collapsed": false
   },
   "outputs": [
    {
     "name": "stdout",
     "output_type": "stream",
     "text": [
      "+------+----------------------------------------------------------------------------------------------------+\n",
      "|vid   |hour_hist                                                                                           |\n",
      "+------+----------------------------------------------------------------------------------------------------+\n",
      "|513544|[0.0,0.0,0.0,0.0,0.0,0.33,0.0,0.0,0.0,0.33,0.0,0.0,0.33,0.0,0.0,0.0,0.0,0.0,0.0,0.0,0.0,0.0,0.0,0.0]|\n",
      "+------+----------------------------------------------------------------------------------------------------+\n",
      "only showing top 1 row\n",
      "\n"
     ]
    }
   ],
   "source": [
    "// same for hour of the day\n",
    "\n",
    "val hour_hist = df.\n",
    "  select($\"vid\", $\"hour\").\n",
    "  map(r => (r.getLong(0),toVector(r.getInt(1), 24))).\n",
    "  reduceByKey(_ + _).\n",
    "  mapValues(x => Vectors.dense((x / sum(x)).toArray.map(r(_,2)))).\n",
    "  toDF(\"vid\", \"hour_hist\")\n",
    "\n",
    "hour_hist.show(1, false)"
   ]
  },
  {
   "cell_type": "code",
   "execution_count": 69,
   "metadata": {
    "collapsed": false
   },
   "outputs": [
    {
     "name": "stdout",
     "output_type": "stream",
     "text": [
      "\r",
      "                                                                                \r",
      "+---------------------+------+------------+------------+-----+---------+--------+\n",
      "|ts                   |uid   |round(lat,4)|round(lon,4)|vid  |hour_prob|dow_prob|\n",
      "+---------------------+------+------------+------------+-----+---------+--------+\n",
      "|2009-10-19 08:48:08.0|24951 |40.7491     |-73.968     |11831|0.11     |0.1     |\n",
      "|2010-08-13 22:28:29.0|125327|40.7491     |-73.968     |11831|0.02     |0.11    |\n",
      "|2010-10-09 06:00:59.0|111   |40.7491     |-73.968     |11831|0.08     |0.16    |\n",
      "|2010-03-10 10:50:05.0|49440 |40.7491     |-73.968     |11831|0.08     |0.21    |\n",
      "|2009-12-17 10:00:45.0|157344|40.7491     |-73.968     |11831|0.08     |0.16    |\n",
      "+---------------------+------+------------+------------+-----+---------+--------+\n",
      "only showing top 5 rows\n",
      "\n"
     ]
    }
   ],
   "source": [
    "val df_probs = df.\n",
    "  join(dow_hist, df(\"vid\") === dow_hist(\"vid\"), \"inner\").\n",
    "  join(hour_hist, df(\"vid\") === hour_hist(\"vid\"), \"inner\").\n",
    "  select( \n",
    "    $\"ts\", \n",
    "    $\"uid\", \n",
    "    round($\"lat\",4), \n",
    "    round($\"lon\",4),\n",
    "    $\"events.vid\", \n",
    "    nth($\"hour\", $\"hour_hist\").as(\"hour_prob\"), \n",
    "    nth($\"dow\",  $\"dow_hist\").as(\"dow_prob\"))\n",
    "\n",
    "df_probs.show(5,false)"
   ]
  },
  {
   "cell_type": "markdown",
   "metadata": {},
   "source": [
    "### Process mining based\n",
    "\n",
    "The first step, in order to do process mining, is to collect sequences of events. In particular, the following code will take chronologically consecutive events and bundle them in pairs for a specific user. These pairs consists of two venue ids, namely source and destination, defining where each user is coming from, going to respectively. \n",
    "\n",
    "The steps in the following code are:\n",
    "\n",
    "  - Convert the DataFrame to an RDD\n",
    "  - Select uid as the key for the PairRDD\n",
    "  - Reshape the PairRDD from \"tall\" to \"wide\"\n",
    "  - Sort chronologically all the checked-in venues for each user\n",
    "  - Extract pairs from each sequence of checked-in venues per user\n",
    "  - Reshape the PairRDD from \"wide\" to \"tall\" again\n",
    "  - Convert back the PairRDD to a DataFrame"
   ]
  },
  {
   "cell_type": "code",
   "execution_count": 96,
   "metadata": {
    "collapsed": false
   },
   "outputs": [],
   "source": [
    "// process mining\n",
    "val g_df = events.\n",
    "  select($\"ts\", $\"uid\", $\"vid\").\n",
    "  rdd.\n",
    "  map(row => (row.getLong(1), List( (row.getTimestamp(0), row.getLong(2)) ))).\n",
    "  reduceByKey(_ ++ _).\n",
    "  mapValues( x =>\n",
    "    x.sortWith(_._1.getTime < _._1.getTime).\n",
    "      map(_._2)\n",
    "  ).\n",
    "  mapValues(_.sliding(2).toList).\n",
    "  flatMap(_._2).\n",
    "  map(\n",
    "    _ match {\n",
    "      case List(a, b) => Some((a, b))\n",
    "      case _ => None\n",
    "  }).\n",
    "  flatMap(x => x).\n",
    "  toDF(\"src\", \"dst\").\n",
    "  repartition(8,$\"src\").\n",
    "  cache()"
   ]
  },
  {
   "cell_type": "markdown",
   "metadata": {},
   "source": [
    "This newly created DataFrame is used to create a graph, where the nodes are the venues and the edges are connections of users checking-in from the one venue to the next."
   ]
  },
  {
   "cell_type": "code",
   "execution_count": 97,
   "metadata": {
    "collapsed": false
   },
   "outputs": [
    {
     "name": "stdout",
     "output_type": "stream",
     "text": [
      "\r",
      "                                                                                \r",
      "+-------+-------+\n",
      "|    src|    dst|\n",
      "+-------+-------+\n",
      "| 226623| 620588|\n",
      "| 487279| 226768|\n",
      "|  11807| 176668|\n",
      "| 195095|1005664|\n",
      "|1080823|1005664|\n",
      "+-------+-------+\n",
      "only showing top 5 rows\n",
      "\n"
     ]
    }
   ],
   "source": [
    "g_df.show(5)"
   ]
  },
  {
   "cell_type": "code",
   "execution_count": 98,
   "metadata": {
    "collapsed": false
   },
   "outputs": [
    {
     "name": "stdout",
     "output_type": "stream",
     "text": [
      "+-------+-------+\n",
      "|    src|    dst|\n",
      "+-------+-------+\n",
      "| 226623| 620588|\n",
      "| 487279| 226768|\n",
      "|  11807| 176668|\n",
      "| 195095|1005664|\n",
      "|1080823|1005664|\n",
      "+-------+-------+\n",
      "only showing top 5 rows\n",
      "\n"
     ]
    }
   ],
   "source": [
    "val edges_df = g_df.\n",
    "  groupBy($\"src\",$\"dst\").\n",
    "  count().\n",
    "  select($\"src\",$\"dst\").\n",
    "  filter($\"src\" !== $\"dst\")\n",
    "\n",
    "edges_df.show(5)"
   ]
  },
  {
   "cell_type": "code",
   "execution_count": 99,
   "metadata": {
    "collapsed": false
   },
   "outputs": [
    {
     "name": "stdout",
     "output_type": "stream",
     "text": [
      "\r",
      "                                                                                \r",
      "+------+\n",
      "|    id|\n",
      "+------+\n",
      "|404831|\n",
      "| 80431|\n",
      "|818431|\n",
      "| 11831|\n",
      "|718231|\n",
      "+------+\n",
      "only showing top 5 rows\n",
      "\n"
     ]
    }
   ],
   "source": [
    "val nodes_df = edges_df.\n",
    "  select($\"src\").\n",
    "  unionAll(edges_df.select($\"dst\")).\n",
    "  distinct().\n",
    "  toDF(\"id\")\n",
    "\n",
    "nodes_df.show(5)"
   ]
  },
  {
   "cell_type": "markdown",
   "metadata": {},
   "source": [
    "#### Graph and Page Rank\n",
    "\n",
    "The above table describes how users are moving from venue to venue. We can now calculate which venues attract more users. This can be done using the page rank algorithm. The PageRank algorithm outputs a probability distribution used to represent the likelihood that a person randomly walking in the city will arrive at any particular venue. This analysis can be executed in Spark using [GraphFrames](http://graphframes.github.io/). GraphFrames is a package for Apache Spark which provides DataFrame-based graph analytics, including the PageRank algorithm."
   ]
  },
  {
   "cell_type": "code",
   "execution_count": 100,
   "metadata": {
    "collapsed": false
   },
   "outputs": [],
   "source": [
    "import org.graphframes.GraphFrame\n",
    "\n",
    "val v = nodes_df.orderBy(\"id\")\n",
    "val e = edges_df.orderBy(\"src\", \"dst\")\n",
    "\n",
    "val g = GraphFrame(nodes_df, edges_df)"
   ]
  },
  {
   "cell_type": "markdown",
   "metadata": {},
   "source": [
    "#### Node degree analysis"
   ]
  },
  {
   "cell_type": "code",
   "execution_count": 101,
   "metadata": {
    "collapsed": false
   },
   "outputs": [],
   "source": [
    "val vertices_indeg = g.inDegrees.filter($\"inDegree\">150).sort(desc(\"inDegree\"))"
   ]
  },
  {
   "cell_type": "code",
   "execution_count": 102,
   "metadata": {
    "collapsed": false
   },
   "outputs": [
    {
     "name": "stdout",
     "output_type": "stream",
     "text": [
      "Top in-degree nodes: 19\n",
      "+------+--------+---------------------------------+\n",
      "|vid   |inDegree|name                             |\n",
      "+------+--------+---------------------------------+\n",
      "|12505 |657     |LGA LaGuardia Airport            |\n",
      "|23261 |600     |JFK John F. Kennedy International|\n",
      "|11844 |580     |Times Square                     |\n",
      "|13022 |442     |Grand Central Terminal           |\n",
      "|24963 |352     |EWR Newark Liberty International |\n",
      "|11875 |278     |Madison Square Garden            |\n",
      "|12525 |273     |The Museum of Modern Art (MoMA)  |\n",
      "|106840|247     |Union Square                     |\n",
      "|11834 |234     |Bryant Park                      |\n",
      "|11720 |232     |Yankee Stadium                   |\n",
      "+------+--------+---------------------------------+\n",
      "only showing top 10 rows\n",
      "\n"
     ]
    }
   ],
   "source": [
    "val popular_venues = vertices_indeg.\n",
    "    join(venues, vertices_indeg(\"id\") === venues(\"vid\"), \"inner\").\n",
    "    sort($\"inDegree\".desc).\n",
    "    select(\"vid\", \"inDegree\", \"name\")\n",
    "    \n",
    "println(s\"Top in-degree nodes: ${ popular_venues.count()}\")\n",
    "popular_venues.show(10, false)"
   ]
  },
  {
   "cell_type": "markdown",
   "metadata": {},
   "source": [
    "#### Page Rank analysis"
   ]
  },
  {
   "cell_type": "code",
   "execution_count": 103,
   "metadata": {
    "collapsed": false
   },
   "outputs": [
    {
     "name": "stdout",
     "output_type": "stream",
     "text": [
      "graph: vertices=19 edges=243\n"
     ]
    }
   ],
   "source": [
    "val vertices  = vertices_indeg.select(\"id\")\n",
    "\n",
    "val edges_src = edges_df.join(vertices, vertices(\"id\")  === edges_df(\"src\"), \"inner\").select(\"src\", \"dst\")\n",
    "val edges     = edges_src.join(vertices, vertices(\"id\") === edges_src(\"dst\"), \"inner\").select(\"src\", \"dst\")\n",
    "\n",
    "println(s\"graph: vertices=${vertices.count()} edges=${edges.count()}\")"
   ]
  },
  {
   "cell_type": "code",
   "execution_count": 104,
   "metadata": {
    "collapsed": false
   },
   "outputs": [
    {
     "name": "stdout",
     "output_type": "stream",
     "text": [
      "+-----+-----+\n",
      "|  src|  dst|\n",
      "+-----+-----+\n",
      "|14151|13022|\n",
      "|14151|14148|\n",
      "|14151|11875|\n",
      "|14151|12505|\n",
      "|14151|11844|\n",
      "+-----+-----+\n",
      "only showing top 5 rows\n",
      "\n"
     ]
    }
   ],
   "source": [
    "edges.show(5)"
   ]
  },
  {
   "cell_type": "code",
   "execution_count": 108,
   "metadata": {
    "collapsed": false
   },
   "outputs": [],
   "source": [
    "val v = vertices.orderBy(\"id\").repartition(8, $\"id\").cache()\n",
    "val e = edges.orderBy(\"src\", \"dst\").repartition(8, $\"src\", $\"dst\").cache()"
   ]
  },
  {
   "cell_type": "code",
   "execution_count": 109,
   "metadata": {
    "collapsed": false
   },
   "outputs": [],
   "source": [
    "val g = GraphFrame(v, e)\n",
    "val results = g.pageRank.resetProbability(0.05).maxIter(10).run()"
   ]
  },
  {
   "cell_type": "code",
   "execution_count": 110,
   "metadata": {
    "collapsed": false
   },
   "outputs": [
    {
     "name": "stdout",
     "output_type": "stream",
     "text": [
      "+-----+-------------------+---------------------------------+\n",
      "|vid  |pagerank           |name                             |\n",
      "+-----+-------------------+---------------------------------+\n",
      "|23261|0.5858428512529236 |JFK John F. Kennedy International|\n",
      "|11844|0.5616098666039386 |Times Square                     |\n",
      "|11875|0.5596497250101465 |Madison Square Garden            |\n",
      "|12505|0.5534573371424486 |LGA LaGuardia Airport            |\n",
      "|12313|0.4955013646050896 |Empire State Building            |\n",
      "|16907|0.47343577069389187|Shake Shack                      |\n",
      "|13022|0.47223222676253773|Grand Central Terminal           |\n",
      "|24963|0.46775299982424834|EWR Newark Liberty International |\n",
      "|14148|0.43629932411573197|Radio City Music Hall            |\n",
      "|12525|0.43565144007204715|The Museum of Modern Art (MoMA)  |\n",
      "|14151|0.42922538125116216|Rockefeller Center               |\n",
      "|11720|0.4169975718000968 |Yankee Stadium                   |\n",
      "|11834|0.4093383935567544 |Bryant Park                      |\n",
      "+-----+-------------------+---------------------------------+\n",
      "only showing top 13 rows\n",
      "\n"
     ]
    }
   ],
   "source": [
    "val result_pr = results.vertices.select(\"id\", \"pagerank\")\n",
    "val popular_venues = result_pr.\n",
    "    join(venues, result_pr(\"id\") === venues(\"vid\"), \"inner\").\n",
    "    select(\"vid\", \"pagerank\", \"name\")\n",
    "\n",
    "popular_venues.sort($\"pagerank\".desc).show(13, false)"
   ]
  },
  {
   "cell_type": "markdown",
   "metadata": {},
   "source": [
    "As shown above, this algorithm provides a \"popularity\" factor for each checked-in venue. This feature can be used to further discriminate anomalies based on the rank of the venue, for instance combining it with the probability of checking in a specific time of the day."
   ]
  },
  {
   "cell_type": "markdown",
   "metadata": {},
   "source": [
    "### Geo-Location: density based\n",
    "\n",
    "We will now cluster events based on the [DBSCAN algorithm](https://en.wikipedia.org/wiki/DBSCAN). DBSCAN is clustering events depending on the density of the events provided. Since the clusters emerge locally by looking for neighboring points, clusters of various shapes can be detected. Points that are isolated and too far from any other point are assigned to a special cluster of outliers. These discerning properties make the DBSCAN algorithm a good candidate for clustering geolocated events."
   ]
  },
  {
   "cell_type": "markdown",
   "metadata": {},
   "source": [
    "Let's prepare the data by transforming the events DataFrame, into a PairRDD. In particular, for geolocated data, we choose the key to be the user identifier, and the value to be the aggregated list of all check-ins posted by that given user. The geolocated data is arranged in a n-by-2 matrix, where the first column represents the latitude and the second column the longitude. "
   ]
  },
  {
   "cell_type": "code",
   "execution_count": 111,
   "metadata": {
    "collapsed": false
   },
   "outputs": [
    {
     "name": "stdout",
     "output_type": "stream",
     "text": [
      "+----+-----+\n",
      "| uid|count|\n",
      "+----+-----+\n",
      "| 578| 1641|\n",
      "|  22| 1290|\n",
      "| 842| 1145|\n",
      "|4985| 1063|\n",
      "+----+-----+\n",
      "\n"
     ]
    }
   ],
   "source": [
    "val top_users = events.\n",
    "    groupBy($\"uid\").\n",
    "    count().\n",
    "    filter($\"count\" > 1000)\n",
    "    \n",
    "top_users.sort(desc(\"count\")).show()"
   ]
  },
  {
   "cell_type": "code",
   "execution_count": 112,
   "metadata": {
    "collapsed": false
   },
   "outputs": [
    {
     "name": "stdout",
     "output_type": "stream",
     "text": [
      "+---------------------+----+-------------+------------------+\n",
      "|ts                   |uid |lat          |lon               |\n",
      "+---------------------+----+-------------+------------------+\n",
      "|2009-12-30 10:23:39.0|4985|40.7663583   |-73.9833973667    |\n",
      "|2009-12-30 10:23:53.0|4985|40.7665252686|-73.9829705584    |\n",
      "|2009-12-30 10:24:02.0|4985|40.76665848  |-73.98390340000002|\n",
      "|2009-12-30 10:24:26.0|4985|40.7671166667|-73.9823264       |\n",
      "|2009-12-30 10:24:35.0|4985|40.7673913454|-73.9814347029    |\n",
      "+---------------------+----+-------------+------------------+\n",
      "only showing top 5 rows\n",
      "\n"
     ]
    }
   ],
   "source": [
    "val top_events = events.\n",
    "    join(top_users, top_users(\"uid\")  === events(\"uid\"), \"inner\").\n",
    "    select(\"ts\", \"events.uid\", \"lat\", \"lon\")\n",
    "\n",
    "top_events.show(5, false)"
   ]
  },
  {
   "cell_type": "code",
   "execution_count": 113,
   "metadata": {
    "collapsed": false
   },
   "outputs": [],
   "source": [
    "val e_df = top_events.\n",
    "  select(\"uid\",\"lat\",\"lon\").\n",
    "  rdd.map(row => (row.getLong(0), Array(row.getDouble(1), row.getDouble(2))) ).\n",
    "  reduceByKey( _ ++ _).\n",
    "  mapValues(v => new DenseMatrix(v.length/2,2,v, 0, 2, true))\n"
   ]
  },
  {
   "cell_type": "code",
   "execution_count": 114,
   "metadata": {
    "collapsed": false
   },
   "outputs": [],
   "source": [
    "def formatUserEvents(x: Tuple2[Long, DenseMatrix[Double]]) : Unit = {\n",
    "    val arr = x._2\n",
    "    val n = math.min( 5 , arr.rows) - 1\n",
    "    val slice = arr(0 to n, ::)\n",
    "    println(s\"uid = ${x._1}\")\n",
    "    println(s\"events count = ${arr.rows}\")\n",
    "    println(\"lat,lon = \")\n",
    "    println(slice)\n",
    "    if (arr.rows > 5) println(s\"... ${arr.rows- 5} more rows\")\n",
    "    println(\"-\"*30)\n",
    "}"
   ]
  },
  {
   "cell_type": "markdown",
   "metadata": {},
   "source": [
    "See below a formatted output describing the events related to three users:"
   ]
  },
  {
   "cell_type": "code",
   "execution_count": 115,
   "metadata": {
    "collapsed": false
   },
   "outputs": [
    {
     "name": "stdout",
     "output_type": "stream",
     "text": [
      "uid = 4985\n",
      "events count = 1063\n",
      "lat,lon = \n",
      "40.7663583     -73.9833973667      \n",
      "40.7665252686  -73.9829705584      \n",
      "40.76665848    -73.98390340000002  \n",
      "40.7671166667  -73.9823264         \n",
      "40.7673913454  -73.9814347029      \n",
      "... 1058 more rows\n",
      "------------------------------\n",
      "uid = 578\n",
      "events count = 1641\n",
      "lat,lon = \n",
      "40.7444201864  -73.98721218109999  \n",
      "40.7457482667  -73.9850020333      \n",
      "40.7443825333  -73.9783781667      \n",
      "40.7428595014  -73.9768588543      \n",
      "40.7428595014  -73.9768588543      \n",
      "... 1636 more rows\n",
      "------------------------------\n",
      "uid = 842\n",
      "events count = 1145\n",
      "lat,lon = \n",
      "40.7164383   -74.0125343         \n",
      "40.71685842  -74.01399805        \n",
      "40.71575957  -74.01116800000001  \n",
      "40.717054    -74.013316          \n",
      "40.71685483  -74.01230673        \n",
      "... 1140 more rows\n",
      "------------------------------\n"
     ]
    }
   ],
   "source": [
    "e_df.take(3).foreach(e => formatUserEvents(e))"
   ]
  },
  {
   "cell_type": "markdown",
   "metadata": {},
   "source": [
    "We will now cluster the events for each user according to the DBSCAN algorithm. This algorithm with cluster those user's events in groups. The rest of the code below reduces those groups to bounding boxes. Next we will use the extracted bounding boxes to score events."
   ]
  },
  {
   "cell_type": "code",
   "execution_count": 116,
   "metadata": {
    "collapsed": false
   },
   "outputs": [],
   "source": [
    "import breeze.numerics._\n",
    "import breeze.linalg._\n",
    "\n",
    "def euclideanDistance (a: DenseVector[Double], b: DenseVector[Double]) = norm(a-b, 2)\n",
    "\n",
    "// 1deg at 40deg latitude is 111034.61 meters\n",
    "// set radius at about 200 mt (0.002 * 111034.61)\n",
    "// which is 0.002 in decimal degrees https://en.wikipedia.org/wiki/Decimal_degrees\n",
    "\n",
    "val eps = 0.002\n",
    "val min_points = 3"
   ]
  },
  {
   "cell_type": "code",
   "execution_count": 117,
   "metadata": {
    "collapsed": true
   },
   "outputs": [],
   "source": [
    "import nak.cluster._\n",
    "import nak.cluster.GDBSCAN._\n",
    "\n",
    "def dbscan(v : breeze.linalg.DenseMatrix[Double]) = {\n",
    "\n",
    "  val gdbscan = new GDBSCAN(\n",
    "    DBSCAN.getNeighbours(eps, distance=euclideanDistance),\n",
    "    DBSCAN.isCorePoint(min_points)\n",
    "  )\n",
    "\n",
    "  // core DBSCAN algorithm\n",
    "  val clusters = gdbscan cluster v\n",
    "  \n",
    "  // reducing the clusters to bounding boxes\n",
    "  // for simplicity: each user could \n",
    "  clusters.map(\n",
    "    cluster => (\n",
    "      cluster.id.toInt, \n",
    "      cluster.points.size, \n",
    "      cluster.points.map(_.value(0)).min,\n",
    "      cluster.points.map(_.value(1)).min,\n",
    "      cluster.points.map(_.value(0)).max,\n",
    "      cluster.points.map(_.value(1)).max\n",
    "    )\n",
    "  )\n",
    "}"
   ]
  },
  {
   "cell_type": "code",
   "execution_count": 118,
   "metadata": {
    "collapsed": false
   },
   "outputs": [],
   "source": [
    "val bboxRdd = e_df.mapValues(dbscan(_)).cache()"
   ]
  },
  {
   "cell_type": "markdown",
   "metadata": {},
   "source": [
    "Let's convert back the RDDs to a DataFrame. Now we have a table describing clusters. Each row defines a cluster in terms of user id, cluster id, the number of cluster's events and the bounding box of the cluster. Each user can have multiple clusters, and some users might have no cluster at all."
   ]
  },
  {
   "cell_type": "code",
   "execution_count": 119,
   "metadata": {
    "collapsed": false,
    "scrolled": true
   },
   "outputs": [
    {
     "name": "stdout",
     "output_type": "stream",
     "text": [
      "\r",
      "                                                                                \r",
      "+----+---+-----+------------------+------------------+------------------+--------------+\n",
      "| uid|cid|csize|           lat_min|           lon_min|           lat_max|       lon_max|\n",
      "+----+---+-----+------------------+------------------+------------------+--------------+\n",
      "|4985|  4|   14|     40.7665739833|    -73.9829850197|40.769262733299996|  -73.98122905|\n",
      "|4985| 10|   25|       40.76349341|      -73.98234528|     40.7652683667|-73.9789733887|\n",
      "|4985| 15|    6|        40.7631676|       -73.9792362|     40.7649154663|-73.9781703833|\n",
      "|4985| 24|   12|     40.7626658695|    -73.9765036134|     40.7647866916|-73.9739406109|\n",
      "|4985| 29|    7|     40.7604105667|      -73.97418069|40.762592967399996|  -73.97242375|\n",
      "|4985| 38|   19|     40.7620566327|    -73.9716011167|40.764846633299996|-73.9698984337|\n",
      "|4985| 40|   35|40.759771316700004|    -73.9695874833|       40.76248225|  -73.96590763|\n",
      "|4985| 44|   21|       40.75770225|-73.96918773649999|40.760391691500004|-73.9659552814|\n",
      "|4985| 45|   12|     40.7608603333|     -73.966573727|     40.7644279489|     -73.96472|\n",
      "|4985| 46|    4|       40.76836514|      -73.96224765|     40.7700063885|-73.9603936294|\n",
      "+----+---+-----+------------------+------------------+------------------+--------------+\n",
      "only showing top 10 rows\n",
      "\n"
     ]
    }
   ],
   "source": [
    "val bbox_df = bboxRdd.\n",
    "  flatMapValues(x => x).\n",
    "  map(x => (x._1, x._2._1, x._2._2,x._2._3,x._2._4,x._2._5,x._2._6)).\n",
    "  toDF(\"uid\", \"cid\", \"csize\", \"lat_min\", \"lon_min\", \"lat_max\", \"lon_max\").\n",
    "  filter($\"cid\" > 0)\n",
    "\n",
    "bbox_df.show(10)"
   ]
  },
  {
   "cell_type": "markdown",
   "metadata": {},
   "source": [
    "#### Scoring Events: looking for outliers\n",
    "\n",
    "We will now score events, and look if some of them are located outside the computed clusters' bounding boxes. Firstly, we join the table of events with the table of clusters. Let's filter out users which do not have enough points as those users have no clusters associated with them and there is no sufficient data to determine outliers. In the code above, we need a user to have at least 3 events in a region of 0.1 degrees in order to have a DBSCAN cluster."
   ]
  },
  {
   "cell_type": "code",
   "execution_count": 120,
   "metadata": {
    "collapsed": false
   },
   "outputs": [
    {
     "name": "stdout",
     "output_type": "stream",
     "text": [
      "\r",
      "                                                                                \r",
      "+---------------------+---+----------+-----------+-------------+------------------+------------------+--------------+\n",
      "|ts                   |uid|lat       |lon        |lat_min      |lon_min           |lat_max           |lon_max       |\n",
      "+---------------------+---+----------+-----------+-------------+------------------+------------------+--------------+\n",
      "|2010-09-22 11:54:40.0|842|40.7164383|-74.0125343|40.71524655  |-74.01068991      |40.716528869      |-74.009803494 |\n",
      "|2010-09-22 11:54:40.0|842|40.7164383|-74.0125343|40.7173408987|-74.01089783329999|40.719733983299996|-74.0092711075|\n",
      "|2010-09-22 11:54:40.0|842|40.7164383|-74.0125343|40.7180543262|-74.01522362      |40.719745         |-74.0147852898|\n",
      "|2010-09-22 11:54:40.0|842|40.7164383|-74.0125343|40.7199164581|-74.01152372359999|40.722198721999995|-74.00957512  |\n",
      "|2010-09-22 11:54:40.0|842|40.7164383|-74.0125343|40.7191226005|-74.0093686167    |40.7208353075     |-74.0085196495|\n",
      "+---------------------+---+----------+-----------+-------------+------------------+------------------+--------------+\n",
      "only showing top 5 rows\n",
      "\n"
     ]
    }
   ],
   "source": [
    "val bbox_events = events.\n",
    "  join(bbox_df, events(\"events.uid\") === bbox_df(\"uid\"), \"full\").\n",
    "  select($\"events.ts\",$\"events.uid\",$\"lat\",$\"lon\",$\"lat_min\",$\"lon_min\",$\"lat_max\",$\"lon_max\").\n",
    "  filter($\"lat_min\".isNotNull)\n",
    "\n",
    "bbox_events.show(5,false)"
   ]
  },
  {
   "cell_type": "code",
   "execution_count": 121,
   "metadata": {
    "collapsed": false
   },
   "outputs": [],
   "source": [
    "case class EventBbox(\n",
    "  ts: Timestamp,\n",
    "  uid: Long, \n",
    "  lat:Double, \n",
    "  lon: Double, \n",
    "  lat_min:Double, \n",
    "  lon_min:Double, \n",
    "  lat_max:Double, \n",
    "  lon_max:Double)\n",
    "  \n",
    "case class EventDetected(\n",
    "  ts: Timestamp,\n",
    "  uid: Long, \n",
    "  lat: Double, \n",
    "  lon: Double, \n",
    "  bbox: Boolean\n",
    ")"
   ]
  },
  {
   "cell_type": "code",
   "execution_count": 122,
   "metadata": {
    "collapsed": false
   },
   "outputs": [],
   "source": [
    "def bbox_check( x:EventBbox): Boolean = {\n",
    "  x.lon >= x.lon_min &\n",
    "  x.lon <= x.lon_max &\n",
    "  x.lat >= x.lat_min &\n",
    "  x.lat <= x.lat_max   \n",
    "}"
   ]
  },
  {
   "cell_type": "markdown",
   "metadata": {},
   "source": [
    "The following code uses the newer Dataset API, which is a DataFrame where row are handled as typed objects. In particular, we are converting the events row into a `EventDetected` object and then we check if the event is within the boundary of the given cluster. Since each user might have more than one cluster, we check each event against all the user's clusters and we consider it an outlier if none of the check is returns a positive outcome. "
   ]
  },
  {
   "cell_type": "code",
   "execution_count": 123,
   "metadata": {
    "collapsed": false
   },
   "outputs": [],
   "source": [
    "val scored_events = bbox_events.\n",
    "  as[EventBbox].\n",
    "  map(x => EventDetected(x.ts, x.uid, x.lat, x.lon, bbox_check(x))).\n",
    "  groupBy($\"ts\", $\"uid\").\n",
    "  reduce( (x,y) => if (x.bbox) x else y ).\n",
    "  map(x => x._2).\n",
    "  cache()"
   ]
  },
  {
   "cell_type": "markdown",
   "metadata": {},
   "source": [
    "Here below the outlier scoring for `uid=4831`. "
   ]
  },
  {
   "cell_type": "code",
   "execution_count": 128,
   "metadata": {
    "collapsed": false
   },
   "outputs": [
    {
     "name": "stdout",
     "output_type": "stream",
     "text": [
      "\r",
      "                                                                                \r",
      "+--------------------+---+------------------+------------------+-----+\n",
      "|                  ts|uid|               lat|               lon| bbox|\n",
      "+--------------------+---+------------------+------------------+-----+\n",
      "|2009-12-25 09:11:...| 22|       40.80989134|      -73.95480966|false|\n",
      "|2010-02-18 14:54:...| 22|40.744951366399995|    -73.9878090536| true|\n",
      "|2010-03-24 19:50:...| 22|     40.7299255408|    -73.9808499813| true|\n",
      "|2009-10-20 14:21:...| 22|        40.7244409|    -73.9924251833| true|\n",
      "|2009-10-29 17:35:...| 22|     40.7253249667|    -74.0042984333| true|\n",
      "|2009-11-07 11:47:...| 22|     40.6912468675|    -74.1795158386|false|\n",
      "|2009-12-09 16:18:...| 22|        40.7508811|-74.00584190000001| true|\n",
      "|2010-01-08 12:25:...| 22|     40.7298523686|-73.99140715600001| true|\n",
      "|2010-03-02 19:27:...| 22|     40.7420385013|    -74.0047001839| true|\n",
      "|2010-03-02 19:29:...| 22|        40.7421403|    -74.0034926333| true|\n",
      "+--------------------+---+------------------+------------------+-----+\n",
      "only showing top 10 rows\n",
      "\n"
     ]
    }
   ],
   "source": [
    "scored_events.\n",
    "  filter(_.uid==22).\n",
    "  show(10)"
   ]
  },
  {
   "cell_type": "markdown",
   "metadata": {
    "collapsed": true
   },
   "source": [
    "As you can see three items are found outside those bounding boxes. Although this is not yet a strong indicator for an anomaly per se, it can constitute a very relevant signal if combined with other signals as seen above. Many improvements can be done to the above core idea, for instance, by including relations and interaction between users and more refined analysis of clusters, using for instance convex hulls instead of bounding boxes and so forth."
   ]
  },
  {
   "cell_type": "markdown",
   "metadata": {},
   "source": [
    "I hope you enjoyed this notebook, thanks for keeping up with me till here. Best wishes for your data science projects!"
   ]
  }
 ],
 "metadata": {
  "kernelspec": {
   "display_name": "Apache Toree - Scala",
   "language": "scala",
   "name": "apache_toree_scala"
  },
  "language_info": {
   "name": "scala",
   "version": "2.10.4"
  }
 },
 "nbformat": 4,
 "nbformat_minor": 0
}
